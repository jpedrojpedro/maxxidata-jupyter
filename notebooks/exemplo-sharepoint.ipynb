{
 "cells": [
  {
   "cell_type": "code",
   "execution_count": 1,
   "id": "9f998d98-90b3-4280-834d-1099e970c112",
   "metadata": {},
   "outputs": [],
   "source": [
    "import sharepy\n",
    "from pathlib import Path\n",
    "from dotenv import dotenv_values\n",
    "from shareplum import Site\n",
    "from shareplum import Office365"
   ]
  },
  {
   "cell_type": "code",
   "execution_count": 2,
   "id": "e2f06d1f-d95b-42c6-9aed-dc4e2df915cb",
   "metadata": {},
   "outputs": [],
   "source": [
    "config = dotenv_values(\"../.env\")"
   ]
  },
  {
   "cell_type": "code",
   "execution_count": 3,
   "id": "6082fa8b-76d4-4266-8186-5e1a74d6f147",
   "metadata": {},
   "outputs": [
    {
     "data": {
      "text/plain": [
       "odict_keys(['AWS_ACCESS_KEY_ID', 'AWS_SECRET_ACCESS_KEY', 'AWS_REGION', 'S3_STAGING_DIR', 'SHAREPOINT_EMAIL', 'SHAREPOINT_PASS'])"
      ]
     },
     "execution_count": 3,
     "metadata": {},
     "output_type": "execute_result"
    }
   ],
   "source": [
    "config.keys()"
   ]
  },
  {
   "cell_type": "code",
   "execution_count": 4,
   "id": "ae05345f-91ee-41f8-be40-67714691482c",
   "metadata": {},
   "outputs": [],
   "source": [
    "SHAREPOINT_BASE_URL = \"https://mymaxxidata.sharepoint.com\""
   ]
  },
  {
   "cell_type": "markdown",
   "id": "b8690def-4efb-42df-993b-a42c395758ba",
   "metadata": {},
   "source": [
    "## Utilizando a biblioteca SharePlum"
   ]
  },
  {
   "cell_type": "code",
   "execution_count": 6,
   "id": "f797434a-7f6d-4a6f-ac5e-9b1cc58ace15",
   "metadata": {},
   "outputs": [
    {
     "ename": "Exception",
     "evalue": "('Error authenticating against Office 365. Error from Office 365:', 'AADSTS53003: Access has been blocked by Conditional Access policies. The access policy does not allow token issuance.')",
     "output_type": "error",
     "traceback": [
      "\u001b[0;31m---------------------------------------------------------------------------\u001b[0m",
      "\u001b[0;31mException\u001b[0m                                 Traceback (most recent call last)",
      "Input \u001b[0;32mIn [6]\u001b[0m, in \u001b[0;36m<cell line: 1>\u001b[0;34m()\u001b[0m\n\u001b[0;32m----> 1\u001b[0m authcookie \u001b[38;5;241m=\u001b[39m \u001b[43mOffice365\u001b[49m\u001b[43m(\u001b[49m\n\u001b[1;32m      2\u001b[0m \u001b[43m    \u001b[49m\u001b[43mSHAREPOINT_BASE_URL\u001b[49m\u001b[43m,\u001b[49m\u001b[43m \u001b[49m\u001b[43musername\u001b[49m\u001b[38;5;241;43m=\u001b[39;49m\u001b[43mconfig\u001b[49m\u001b[43m[\u001b[49m\u001b[38;5;124;43m\"\u001b[39;49m\u001b[38;5;124;43mSHAREPOINT_EMAIL\u001b[39;49m\u001b[38;5;124;43m\"\u001b[39;49m\u001b[43m]\u001b[49m\u001b[43m,\u001b[49m\u001b[43m \u001b[49m\u001b[43mpassword\u001b[49m\u001b[38;5;241;43m=\u001b[39;49m\u001b[43mconfig\u001b[49m\u001b[43m[\u001b[49m\u001b[38;5;124;43m\"\u001b[39;49m\u001b[38;5;124;43mSHAREPOINT_PASS\u001b[39;49m\u001b[38;5;124;43m\"\u001b[39;49m\u001b[43m]\u001b[49m\n\u001b[1;32m      3\u001b[0m \u001b[43m)\u001b[49m\u001b[38;5;241;43m.\u001b[39;49m\u001b[43mGetCookies\u001b[49m\u001b[43m(\u001b[49m\u001b[43m)\u001b[49m\n",
      "File \u001b[0;32m~/.local/share/virtualenvs/maxxidata-jupyter-0s_LS_oo/lib/python3.9/site-packages/shareplum/office365.py:88\u001b[0m, in \u001b[0;36mOffice365.get_cookies\u001b[0;34m(self)\u001b[0m\n\u001b[1;32m     82\u001b[0m \u001b[38;5;28;01mdef\u001b[39;00m \u001b[38;5;21mget_cookies\u001b[39m(\u001b[38;5;28mself\u001b[39m):\n\u001b[1;32m     83\u001b[0m     \u001b[38;5;66;03m# type: () -> requests.cookies.RequestsCookieJar\u001b[39;00m\n\u001b[1;32m     84\u001b[0m     \u001b[38;5;124;03m\"\"\"\u001b[39;00m\n\u001b[1;32m     85\u001b[0m \u001b[38;5;124;03m    Grabs the cookies form your Office Sharepoint site\u001b[39;00m\n\u001b[1;32m     86\u001b[0m \u001b[38;5;124;03m    and uses it as Authentication for the rest of the calls\u001b[39;00m\n\u001b[1;32m     87\u001b[0m \u001b[38;5;124;03m    \"\"\"\u001b[39;00m\n\u001b[0;32m---> 88\u001b[0m     sectoken \u001b[38;5;241m=\u001b[39m \u001b[38;5;28;43mself\u001b[39;49m\u001b[38;5;241;43m.\u001b[39;49m\u001b[43mget_security_token\u001b[49m\u001b[43m(\u001b[49m\u001b[38;5;28;43mself\u001b[39;49m\u001b[38;5;241;43m.\u001b[39;49m\u001b[43musername\u001b[49m\u001b[43m,\u001b[49m\u001b[43m \u001b[49m\u001b[38;5;28;43mself\u001b[39;49m\u001b[38;5;241;43m.\u001b[39;49m\u001b[43mpassword\u001b[49m\u001b[43m)\u001b[49m\n\u001b[1;32m     89\u001b[0m     url \u001b[38;5;241m=\u001b[39m \u001b[38;5;28mself\u001b[39m\u001b[38;5;241m.\u001b[39mshare_point_site \u001b[38;5;241m+\u001b[39m \u001b[38;5;124m\"\u001b[39m\u001b[38;5;124m/_forms/default.aspx?wa=wsignin1.0\u001b[39m\u001b[38;5;124m\"\u001b[39m\n\u001b[1;32m     90\u001b[0m     response \u001b[38;5;241m=\u001b[39m post(requests, url, data\u001b[38;5;241m=\u001b[39msectoken)\n",
      "File \u001b[0;32m~/.local/share/virtualenvs/maxxidata-jupyter-0s_LS_oo/lib/python3.9/site-packages/shareplum/office365.py:80\u001b[0m, in \u001b[0;36mOffice365.get_security_token\u001b[0;34m(self, username, password)\u001b[0m\n\u001b[1;32m     77\u001b[0m \u001b[38;5;28;01mif\u001b[39;00m \u001b[38;5;28mlen\u001b[39m(message) \u001b[38;5;241m<\u001b[39m \u001b[38;5;241m1\u001b[39m:\n\u001b[1;32m     78\u001b[0m     \u001b[38;5;28;01mraise\u001b[39;00m \u001b[38;5;167;01mException\u001b[39;00m(\u001b[38;5;124m'\u001b[39m\u001b[38;5;124mError authenticating against Office 365. Was not able to find an error code. Here is \u001b[39m\u001b[38;5;124m'\u001b[39m\n\u001b[1;32m     79\u001b[0m                     \u001b[38;5;124m'\u001b[39m\u001b[38;5;124mthe SOAP response from Office 365\u001b[39m\u001b[38;5;124m'\u001b[39m, response\u001b[38;5;241m.\u001b[39mcontent)\n\u001b[0;32m---> 80\u001b[0m \u001b[38;5;28;01mraise\u001b[39;00m \u001b[38;5;167;01mException\u001b[39;00m(\u001b[38;5;124m'\u001b[39m\u001b[38;5;124mError authenticating against Office 365. Error from Office 365:\u001b[39m\u001b[38;5;124m'\u001b[39m, message[\u001b[38;5;241m0\u001b[39m]\u001b[38;5;241m.\u001b[39mtext)\n",
      "\u001b[0;31mException\u001b[0m: ('Error authenticating against Office 365. Error from Office 365:', 'AADSTS53003: Access has been blocked by Conditional Access policies. The access policy does not allow token issuance.')"
     ]
    }
   ],
   "source": [
    "authcookie = Office365(\n",
    "    SHAREPOINT_BASE_URL, username=config[\"SHAREPOINT_EMAIL\"], password=config[\"SHAREPOINT_PASS\"]\n",
    ").GetCookies()"
   ]
  },
  {
   "cell_type": "code",
   "execution_count": null,
   "id": "47dbc1ed-7ef2-455a-aad5-986225d1d5bc",
   "metadata": {},
   "outputs": [],
   "source": [
    "site = Site('https://abc.sharepoint.com/sites/MySharePointSite/', authcookie=authcookie)\n",
    "sp_list = site.List('list name')\n",
    "data = sp_list.GetListItems('All Items', rowlimit=200)"
   ]
  },
  {
   "cell_type": "markdown",
   "id": "ed953f2e-41a0-4b3a-a0c2-c819f9ff4bdb",
   "metadata": {},
   "source": [
    "## Utilizando a biblioteca SharePy"
   ]
  },
  {
   "cell_type": "code",
   "execution_count": 7,
   "id": "174ba927-8ce7-4218-9b40-2aa9baa027d8",
   "metadata": {},
   "outputs": [
    {
     "name": "stdin",
     "output_type": "stream",
     "text": [
      "Enter your username:  joao.pinheiro@maxxidata.com\n",
      "Enter your password:  ··············\n"
     ]
    },
    {
     "ename": "AuthError",
     "evalue": "Authentication Failure: AADSTS53003: Access has been blocked by Conditional Access policies. The access policy does not allow token issuance",
     "output_type": "error",
     "traceback": [
      "\u001b[0;31m---------------------------------------------------------------------------\u001b[0m",
      "\u001b[0;31mAuthError\u001b[0m                                 Traceback (most recent call last)",
      "Input \u001b[0;32mIn [7]\u001b[0m, in \u001b[0;36m<cell line: 1>\u001b[0;34m()\u001b[0m\n\u001b[0;32m----> 1\u001b[0m s \u001b[38;5;241m=\u001b[39m \u001b[43msharepy\u001b[49m\u001b[38;5;241;43m.\u001b[39;49m\u001b[43mconnect\u001b[49m\u001b[43m(\u001b[49m\u001b[43mSHAREPOINT_BASE_URL\u001b[49m\u001b[43m)\u001b[49m\n",
      "File \u001b[0;32m~/.local/share/virtualenvs/maxxidata-jupyter-0s_LS_oo/lib/python3.9/site-packages/sharepy/session.py:15\u001b[0m, in \u001b[0;36mconnect\u001b[0;34m(site, username, password)\u001b[0m\n\u001b[1;32m     13\u001b[0m username \u001b[38;5;241m=\u001b[39m username \u001b[38;5;129;01mor\u001b[39;00m \u001b[38;5;28minput\u001b[39m(\u001b[38;5;124m'\u001b[39m\u001b[38;5;124mEnter your username: \u001b[39m\u001b[38;5;124m'\u001b[39m)\n\u001b[1;32m     14\u001b[0m autoauth \u001b[38;5;241m=\u001b[39m auth\u001b[38;5;241m.\u001b[39mdetect(username\u001b[38;5;241m=\u001b[39musername, password\u001b[38;5;241m=\u001b[39mpassword)\n\u001b[0;32m---> 15\u001b[0m \u001b[38;5;28;01mreturn\u001b[39;00m \u001b[43mSharePointSession\u001b[49m\u001b[43m(\u001b[49m\u001b[43msite\u001b[49m\u001b[43m,\u001b[49m\u001b[43m \u001b[49m\u001b[43mauth\u001b[49m\u001b[38;5;241;43m=\u001b[39;49m\u001b[43mautoauth\u001b[49m\u001b[43m)\u001b[49m\n",
      "File \u001b[0;32m~/.local/share/virtualenvs/maxxidata-jupyter-0s_LS_oo/lib/python3.9/site-packages/sharepy/session.py:61\u001b[0m, in \u001b[0;36mSharePointSession.__init__\u001b[0;34m(self, site, auth)\u001b[0m\n\u001b[1;32m     56\u001b[0m \u001b[38;5;28mself\u001b[39m\u001b[38;5;241m.\u001b[39mauth \u001b[38;5;241m=\u001b[39m auth\n\u001b[1;32m     57\u001b[0m \u001b[38;5;28mself\u001b[39m\u001b[38;5;241m.\u001b[39mheaders\u001b[38;5;241m.\u001b[39mupdate({\n\u001b[1;32m     58\u001b[0m     \u001b[38;5;124m'\u001b[39m\u001b[38;5;124mAccept\u001b[39m\u001b[38;5;124m'\u001b[39m: \u001b[38;5;124m'\u001b[39m\u001b[38;5;124mapplication/json; odata=verbose\u001b[39m\u001b[38;5;124m'\u001b[39m,\n\u001b[1;32m     59\u001b[0m     \u001b[38;5;124m'\u001b[39m\u001b[38;5;124mContent-type\u001b[39m\u001b[38;5;124m'\u001b[39m: \u001b[38;5;124m'\u001b[39m\u001b[38;5;124mapplication/json; odata=verbose\u001b[39m\u001b[38;5;124m'\u001b[39m\n\u001b[1;32m     60\u001b[0m })\n\u001b[0;32m---> 61\u001b[0m \u001b[38;5;28;43mself\u001b[39;49m\u001b[38;5;241;43m.\u001b[39;49m\u001b[43mauth\u001b[49m\u001b[38;5;241;43m.\u001b[39;49m\u001b[43mlogin\u001b[49m\u001b[43m(\u001b[49m\u001b[38;5;28;43mself\u001b[39;49m\u001b[38;5;241;43m.\u001b[39;49m\u001b[43msite\u001b[49m\u001b[43m)\u001b[49m\n",
      "File \u001b[0;32m~/.local/share/virtualenvs/maxxidata-jupyter-0s_LS_oo/lib/python3.9/site-packages/sharepy/auth/spol.py:25\u001b[0m, in \u001b[0;36mSharePointOnline.login\u001b[0;34m(self, site)\u001b[0m\n\u001b[1;32m     23\u001b[0m \u001b[38;5;124;03m\"\"\"Perform authentication steps\"\"\"\u001b[39;00m\n\u001b[1;32m     24\u001b[0m \u001b[38;5;28mself\u001b[39m\u001b[38;5;241m.\u001b[39msite \u001b[38;5;241m=\u001b[39m site\n\u001b[0;32m---> 25\u001b[0m \u001b[38;5;28;43mself\u001b[39;49m\u001b[38;5;241;43m.\u001b[39;49m\u001b[43m_get_token\u001b[49m\u001b[43m(\u001b[49m\u001b[43m)\u001b[49m\n\u001b[1;32m     26\u001b[0m \u001b[38;5;28mself\u001b[39m\u001b[38;5;241m.\u001b[39m_get_cookie()\n\u001b[1;32m     27\u001b[0m \u001b[38;5;28mself\u001b[39m\u001b[38;5;241m.\u001b[39m_get_digest()\n",
      "File \u001b[0;32m~/.local/share/virtualenvs/maxxidata-jupyter-0s_LS_oo/lib/python3.9/site-packages/sharepy/auth/spol.py:50\u001b[0m, in \u001b[0;36mSharePointOnline._get_token\u001b[0;34m(self)\u001b[0m\n\u001b[1;32m     48\u001b[0m token \u001b[38;5;241m=\u001b[39m root\u001b[38;5;241m.\u001b[39mfind(\u001b[38;5;124m'\u001b[39m\u001b[38;5;124m.//wsse:BinarySecurityToken\u001b[39m\u001b[38;5;124m'\u001b[39m, ns)\n\u001b[1;32m     49\u001b[0m \u001b[38;5;28;01mif\u001b[39;00m token \u001b[38;5;129;01mis\u001b[39;00m \u001b[38;5;28;01mNone\u001b[39;00m \u001b[38;5;129;01mor\u001b[39;00m root\u001b[38;5;241m.\u001b[39mfind(\u001b[38;5;124m'\u001b[39m\u001b[38;5;124m.//S:Fault\u001b[39m\u001b[38;5;124m'\u001b[39m, ns) \u001b[38;5;129;01mis\u001b[39;00m \u001b[38;5;129;01mnot\u001b[39;00m \u001b[38;5;28;01mNone\u001b[39;00m:\n\u001b[0;32m---> 50\u001b[0m     \u001b[38;5;28;01mraise\u001b[39;00m errors\u001b[38;5;241m.\u001b[39mAuthError\u001b[38;5;241m.\u001b[39mfromxml(root)\n\u001b[1;32m     52\u001b[0m \u001b[38;5;28mself\u001b[39m\u001b[38;5;241m.\u001b[39mtoken \u001b[38;5;241m=\u001b[39m token\u001b[38;5;241m.\u001b[39mtext\n",
      "\u001b[0;31mAuthError\u001b[0m: Authentication Failure: AADSTS53003: Access has been blocked by Conditional Access policies. The access policy does not allow token issuance"
     ]
    }
   ],
   "source": [
    "s = sharepy.connect(SHAREPOINT_BASE_URL)"
   ]
  },
  {
   "cell_type": "code",
   "execution_count": null,
   "id": "4348a437-a15b-4239-9f8a-0631a076d24b",
   "metadata": {},
   "outputs": [],
   "source": []
  }
 ],
 "metadata": {
  "kernelspec": {
   "display_name": "Python 3 (ipykernel)",
   "language": "python",
   "name": "python3"
  },
  "language_info": {
   "codemirror_mode": {
    "name": "ipython",
    "version": 3
   },
   "file_extension": ".py",
   "mimetype": "text/x-python",
   "name": "python",
   "nbconvert_exporter": "python",
   "pygments_lexer": "ipython3",
   "version": "3.9.6"
  }
 },
 "nbformat": 4,
 "nbformat_minor": 5
}
