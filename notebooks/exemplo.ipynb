{
 "cells": [
  {
   "cell_type": "code",
   "execution_count": 1,
   "id": "b4791540-352e-4112-8c87-ea8f74d4023e",
   "metadata": {},
   "outputs": [],
   "source": [
    "import sqlite3\n",
    "import pandas as pd\n",
    "from pathlib import Path\n",
    "import seaborn as sns\n",
    "import matplotlib.pyplot as plt"
   ]
  },
  {
   "cell_type": "code",
   "execution_count": 2,
   "id": "7795535a-1194-4a30-a4f5-29dbef2ea136",
   "metadata": {},
   "outputs": [],
   "source": [
    "inputs_path = Path.cwd().parent / \"inputs\""
   ]
  },
  {
   "cell_type": "code",
   "execution_count": 3,
   "id": "ac53c676-49e5-4ee8-a1ed-d5d2afe05315",
   "metadata": {},
   "outputs": [],
   "source": [
    "conn = sqlite3.connect(inputs_path / \"chinook.sqlite\")"
   ]
  },
  {
   "cell_type": "code",
   "execution_count": 4,
   "id": "49f9273e-ef6c-435b-a463-91dc5d72cdcb",
   "metadata": {},
   "outputs": [],
   "source": [
    "cur = conn.cursor()"
   ]
  },
  {
   "cell_type": "code",
   "execution_count": 5,
   "id": "3f4adc3f-9d37-4134-97cb-8eda0ca9220d",
   "metadata": {},
   "outputs": [
    {
     "data": {
      "text/plain": [
       "<sqlite3.Cursor at 0x1325c6ea0>"
      ]
     },
     "execution_count": 5,
     "metadata": {},
     "output_type": "execute_result"
    }
   ],
   "source": [
    "cur.execute(\"select * from Artist where name like ?\", [\"%Rappa%\"])"
   ]
  },
  {
   "cell_type": "code",
   "execution_count": 6,
   "id": "d188f7d4-953f-4d04-a989-2eb00c4d2988",
   "metadata": {},
   "outputs": [
    {
     "data": {
      "text/plain": [
       "[(36, 'O Rappa')]"
      ]
     },
     "execution_count": 6,
     "metadata": {},
     "output_type": "execute_result"
    }
   ],
   "source": [
    "cur.fetchall()"
   ]
  },
  {
   "cell_type": "code",
   "execution_count": 25,
   "id": "5385488d-f0cd-4f48-ae40-c54e4d9673ed",
   "metadata": {},
   "outputs": [],
   "source": [
    "query = \"\"\"\n",
    "    select ar.Name, count(al.AlbumId) NumAlbums\n",
    "    from Artist ar\n",
    "      inner join Album al on ar.ArtistId = al.ArtistId\n",
    "    group by ar.Name\n",
    "    order by NumAlbums desc\n",
    "    limit 10\n",
    "\"\"\""
   ]
  },
  {
   "cell_type": "code",
   "execution_count": 26,
   "id": "48a30925-0d3a-4d12-8d41-27a2a018c68a",
   "metadata": {},
   "outputs": [
    {
     "data": {
      "text/plain": [
       "<sqlite3.Cursor at 0x1325c6ea0>"
      ]
     },
     "execution_count": 26,
     "metadata": {},
     "output_type": "execute_result"
    }
   ],
   "source": [
    "cur.execute(query)"
   ]
  },
  {
   "cell_type": "code",
   "execution_count": 27,
   "id": "0b25a419-74f0-4a92-a466-641701c0b394",
   "metadata": {},
   "outputs": [
    {
     "data": {
      "text/html": [
       "<div>\n",
       "<style scoped>\n",
       "    .dataframe tbody tr th:only-of-type {\n",
       "        vertical-align: middle;\n",
       "    }\n",
       "\n",
       "    .dataframe tbody tr th {\n",
       "        vertical-align: top;\n",
       "    }\n",
       "\n",
       "    .dataframe thead th {\n",
       "        text-align: right;\n",
       "    }\n",
       "</style>\n",
       "<table border=\"1\" class=\"dataframe\">\n",
       "  <thead>\n",
       "    <tr style=\"text-align: right;\">\n",
       "      <th></th>\n",
       "      <th>artist</th>\n",
       "      <th>amount</th>\n",
       "    </tr>\n",
       "  </thead>\n",
       "  <tbody>\n",
       "    <tr>\n",
       "      <th>0</th>\n",
       "      <td>Iron Maiden</td>\n",
       "      <td>21</td>\n",
       "    </tr>\n",
       "    <tr>\n",
       "      <th>1</th>\n",
       "      <td>Led Zeppelin</td>\n",
       "      <td>14</td>\n",
       "    </tr>\n",
       "    <tr>\n",
       "      <th>2</th>\n",
       "      <td>Deep Purple</td>\n",
       "      <td>11</td>\n",
       "    </tr>\n",
       "    <tr>\n",
       "      <th>3</th>\n",
       "      <td>U2</td>\n",
       "      <td>10</td>\n",
       "    </tr>\n",
       "    <tr>\n",
       "      <th>4</th>\n",
       "      <td>Metallica</td>\n",
       "      <td>10</td>\n",
       "    </tr>\n",
       "    <tr>\n",
       "      <th>5</th>\n",
       "      <td>Ozzy Osbourne</td>\n",
       "      <td>6</td>\n",
       "    </tr>\n",
       "    <tr>\n",
       "      <th>6</th>\n",
       "      <td>Pearl Jam</td>\n",
       "      <td>5</td>\n",
       "    </tr>\n",
       "    <tr>\n",
       "      <th>7</th>\n",
       "      <td>Various Artists</td>\n",
       "      <td>4</td>\n",
       "    </tr>\n",
       "    <tr>\n",
       "      <th>8</th>\n",
       "      <td>Van Halen</td>\n",
       "      <td>4</td>\n",
       "    </tr>\n",
       "    <tr>\n",
       "      <th>9</th>\n",
       "      <td>Lost</td>\n",
       "      <td>4</td>\n",
       "    </tr>\n",
       "  </tbody>\n",
       "</table>\n",
       "</div>"
      ],
      "text/plain": [
       "            artist  amount\n",
       "0      Iron Maiden      21\n",
       "1     Led Zeppelin      14\n",
       "2      Deep Purple      11\n",
       "3               U2      10\n",
       "4        Metallica      10\n",
       "5    Ozzy Osbourne       6\n",
       "6        Pearl Jam       5\n",
       "7  Various Artists       4\n",
       "8        Van Halen       4\n",
       "9             Lost       4"
      ]
     },
     "execution_count": 27,
     "metadata": {},
     "output_type": "execute_result"
    }
   ],
   "source": [
    "artists_albums = cur.fetchall()\n",
    "artists_albums = [{\"artist\": artist, \"amount\": amount} for artist, amount in artists_albums]\n",
    "df_artists_albums = pd.DataFrame(artists_albums)\n",
    "df_artists_albums"
   ]
  },
  {
   "cell_type": "code",
   "execution_count": 28,
   "id": "600b12ec-daf4-4c82-bb97-71ac14315128",
   "metadata": {},
   "outputs": [
    {
     "data": {
      "image/png": "[encoded data removed]",
      "text/plain": [
       "<Figure size 1152x576 with 1 Axes>"
      ]
     },
     "metadata": {
      "needs_background": "light"
     },
     "output_type": "display_data"
    }
   ],
   "source": [
    "plt.figure(figsize=(16, 8))\n",
    "sns.barplot(x=\"amount\", y=\"artist\", data=df_artists_albums)\n",
    "plt.close(2)"
   ]
  },
  {
   "cell_type": "code",
   "execution_count": 29,
   "id": "846e293c-1563-4bf5-993c-d679cf1874ff",
   "metadata": {},
   "outputs": [],
   "source": [
    "conn.close()"
   ]
  }
 ],
 "metadata": {
  "kernelspec": {
   "display_name": "Python 3 (ipykernel)",
   "language": "python",
   "name": "python3"
  },
  "language_info": {
   "codemirror_mode": {
    "name": "ipython",
    "version": 3
   },
   "file_extension": ".py",
   "mimetype": "text/x-python",
   "name": "python",
   "nbconvert_exporter": "python",
   "pygments_lexer": "ipython3",
   "version": "3.9.6"
  }
 },
 "nbformat": 4,
 "nbformat_minor": 5
}
