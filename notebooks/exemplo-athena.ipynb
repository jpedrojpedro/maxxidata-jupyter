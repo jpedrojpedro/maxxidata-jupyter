{
 "cells": [
  {
   "cell_type": "code",
   "execution_count": 12,
   "id": "0405d779-3123-43da-823c-d045d62b7fcd",
   "metadata": {},
   "outputs": [],
   "source": [
    "import boto3\n",
    "from dotenv import dotenv_values"
   ]
  },
  {
   "cell_type": "code",
   "execution_count": 13,
   "id": "c873cd97-600c-4464-bc70-d5b3a7bbdf37",
   "metadata": {},
   "outputs": [],
   "source": [
    "config = dotenv_values(\"../.env\")"
   ]
  },
  {
   "cell_type": "code",
   "execution_count": 14,
   "id": "cd445b95-03b8-42e4-b758-6026a30dcbb3",
   "metadata": {},
   "outputs": [
    {
     "data": {
      "text/plain": [
       "odict_keys(['AWS_ACCESS_KEY_ID', 'AWS_SECRET_ACCESS_KEY', 'AWS_REGION', 'S3_STAGING_DIR'])"
      ]
     },
     "execution_count": 14,
     "metadata": {},
     "output_type": "execute_result"
    }
   ],
   "source": [
    "config.keys()"
   ]
  },
  {
   "cell_type": "code",
   "execution_count": 16,
   "id": "1da31ccb-baaa-4473-8da6-12191b18db33",
   "metadata": {},
   "outputs": [],
   "source": [
    "athena_client = boto3.client(\n",
    "    \"athena\",\n",
    "    aws_access_key_id=config[\"AWS_ACCESS_KEY_ID\"],\n",
    "    aws_secret_access_key=config[\"AWS_SECRET_ACCESS_KEY\"],\n",
    "    region_name=config[\"AWS_REGION\"],\n",
    ")"
   ]
  },
  {
   "cell_type": "code",
   "execution_count": null,
   "id": "cbccb375-a562-4132-bc81-99e2bf9e5c90",
   "metadata": {},
   "outputs": [],
   "source": [
    "query_response = athena_client.start_query_execution(\n",
    "    QueryString=\"SELECT * FROM table limit 10\",\n",
    "    # QueryExecutionContext={\"Database\": SCHEMA_NAME},\n",
    "    ResultConfiguration={\n",
    "        # \"OutputLocation\": config[\"S3_STAGING_DIR\"],\n",
    "        \"EncryptionConfiguration\": {\"EncryptionOption\": \"SSE_S3\"},\n",
    "    },\n",
    ")"
   ]
  }
 ],
 "metadata": {
  "kernelspec": {
   "display_name": "Python 3 (ipykernel)",
   "language": "python",
   "name": "python3"
  },
  "language_info": {
   "codemirror_mode": {
    "name": "ipython",
    "version": 3
   },
   "file_extension": ".py",
   "mimetype": "text/x-python",
   "name": "python",
   "nbconvert_exporter": "python",
   "pygments_lexer": "ipython3",
   "version": "3.9.6"
  }
 },
 "nbformat": 4,
 "nbformat_minor": 5
}