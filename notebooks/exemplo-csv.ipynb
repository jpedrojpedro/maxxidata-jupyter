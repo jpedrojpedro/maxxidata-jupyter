{
 "cells": [
  {
   "cell_type": "markdown",
   "id": "18238141-051a-4154-8ec1-cd21d646e9aa",
   "metadata": {},
   "source": [
    "## \\[Data Science\\] Full stack training\n",
    "\n",
    "- campo chave para junção das tabelas: `grower_document`\n",
    "- tabela base: `md_grower_report`\n",
    "  - corresponde ao cadastro de agricultores da Bayer"
   ]
  },
  {
   "cell_type": "code",
   "execution_count": 1,
   "id": "83f635ff-cb10-493f-b595-1ac0af391eec",
   "metadata": {},
   "outputs": [],
   "source": [
    "import pandas as pd\n",
    "from math import isnan\n",
    "from pathlib import Path"
   ]
  },
  {
   "cell_type": "code",
   "execution_count": 2,
   "id": "04d22db7-dfe5-4405-a16c-6e47f0be566f",
   "metadata": {},
   "outputs": [],
   "source": [
    "pd.set_option('display.max_columns', None)"
   ]
  },
  {
   "cell_type": "code",
   "execution_count": 3,
   "id": "b64df1bf-544b-4b97-9cea-7abf14ce764f",
   "metadata": {},
   "outputs": [],
   "source": [
    "INPUT_FOLDER = Path.cwd().parent / \"inputs\""
   ]
  },
  {
   "cell_type": "code",
   "execution_count": 4,
   "id": "fd45ad34-a200-4f82-ad8b-67aed503fdee",
   "metadata": {},
   "outputs": [],
   "source": [
    "csv_files = Path(INPUT_FOLDER).glob('**/*.csv')"
   ]
  },
  {
   "cell_type": "code",
   "execution_count": 5,
   "id": "d94bcfee-5647-45f5-b99e-faae2acf8457",
   "metadata": {},
   "outputs": [
    {
     "name": "stderr",
     "output_type": "stream",
     "text": [
      "/var/folders/g0/342sbsdd56173k7xyxgl_jh1w0chb5/T/ipykernel_65002/670898405.py:1: DtypeWarning: Columns (38,40) have mixed types. Specify dtype option on import or set low_memory=False.\n",
      "  df = {f\"{csv_file.name[10:-4]}\": pd.read_csv(csv_file) for csv_file in csv_files}\n",
      "/var/folders/g0/342sbsdd56173k7xyxgl_jh1w0chb5/T/ipykernel_65002/670898405.py:1: DtypeWarning: Columns (1,2,39) have mixed types. Specify dtype option on import or set low_memory=False.\n",
      "  df = {f\"{csv_file.name[10:-4]}\": pd.read_csv(csv_file) for csv_file in csv_files}\n",
      "/var/folders/g0/342sbsdd56173k7xyxgl_jh1w0chb5/T/ipykernel_65002/670898405.py:1: DtypeWarning: Columns (37,47) have mixed types. Specify dtype option on import or set low_memory=False.\n",
      "  df = {f\"{csv_file.name[10:-4]}\": pd.read_csv(csv_file) for csv_file in csv_files}\n"
     ]
    }
   ],
   "source": [
    "df = {f\"{csv_file.name[10:-4]}\": pd.read_csv(csv_file) for csv_file in csv_files}"
   ]
  },
  {
   "cell_type": "code",
   "execution_count": 6,
   "id": "54d33959-9f31-45c9-a0c4-d9d557f16cf6",
   "metadata": {},
   "outputs": [
    {
     "data": {
      "text/plain": [
       "dict_keys(['sales', 'disque_intacta', 'md_grower_report', 'saved_seeds', 'entered_area'])"
      ]
     },
     "execution_count": 6,
     "metadata": {},
     "output_type": "execute_result"
    }
   ],
   "source": [
    "df.keys()"
   ]
  },
  {
   "cell_type": "markdown",
   "id": "ef95af41-0e0d-4f5e-833f-9730a9c8714d",
   "metadata": {},
   "source": [
    "## Tables:\n",
    "\n",
    "- **sales** => (871.264, 79) - (a_seller_document, a_buyer_document)\n",
    "- **disque_intacta** => (385.716, 51)\n",
    "- **md_grower_report** => (514.182, 38) - (a_grower_document)\n",
    "- **saved_seeds** => (19.648, 72)\n",
    "- **entered_area** => (51.262, 40)"
   ]
  },
  {
   "cell_type": "markdown",
   "id": "cc8112b0-c40f-440d-abf3-c1cde2e5d322",
   "metadata": {},
   "source": [
    "## Dealing with duplicated data\n",
    "\n",
    "An initial `left outer join` between `sales` and `md_grower_report` was resulting an amount greater than the number of rows of `sales`\n",
    "\n",
    "This raised a red flag because probably there were duplicated keys in `md_grower_report`\n",
    "\n",
    "Then, I started investigating"
   ]
  },
  {
   "cell_type": "code",
   "execution_count": 7,
   "id": "8963b6a9-fbc0-4a7c-8ec7-0d0fbf7859b3",
   "metadata": {},
   "outputs": [
    {
     "data": {
      "text/plain": [
       "(896150, 117)"
      ]
     },
     "execution_count": 7,
     "metadata": {},
     "output_type": "execute_result"
    }
   ],
   "source": [
    "df_dup_detected = pd.merge(\n",
    "    df[\"sales\"],\n",
    "    df[\"md_grower_report\"],\n",
    "    how=\"left\",\n",
    "    # on=None,\n",
    "    left_on=[\"a_seller_document\"],\n",
    "    right_on=[\"a_grower_document\"],\n",
    "    # left_index=False,\n",
    "    # right_index=False,\n",
    "    # sort=True,\n",
    "    suffixes=(\"_seller\", \"_grower\"),\n",
    ")\n",
    "df_dup_detected.shape"
   ]
  },
  {
   "cell_type": "markdown",
   "id": "115ec915-052b-4b7d-833a-8a43dd45498a",
   "metadata": {},
   "source": [
    "`896.150` **>** `871.264` :: `24.886` extra amount (**!!!**)"
   ]
  },
  {
   "cell_type": "code",
   "execution_count": 8,
   "id": "eca7c46e-4663-4d49-9be2-58335c6a038d",
   "metadata": {},
   "outputs": [
    {
     "name": "stdout",
     "output_type": "stream",
     "text": [
      "Comparing grower_docs.size with grower_docs_unq.size => 514182 vs 461935\n"
     ]
    },
    {
     "ename": "AssertionError",
     "evalue": "",
     "output_type": "error",
     "traceback": [
      "\u001b[0;31m---------------------------------------------------------------------------\u001b[0m",
      "\u001b[0;31mAssertionError\u001b[0m                            Traceback (most recent call last)",
      "Input \u001b[0;32mIn [8]\u001b[0m, in \u001b[0;36m<cell line: 4>\u001b[0;34m()\u001b[0m\n\u001b[1;32m      2\u001b[0m grower_docs_unq \u001b[38;5;241m=\u001b[39m df[\u001b[38;5;124m\"\u001b[39m\u001b[38;5;124mmd_grower_report\u001b[39m\u001b[38;5;124m\"\u001b[39m][\u001b[38;5;124m\"\u001b[39m\u001b[38;5;124ma_grower_document\u001b[39m\u001b[38;5;124m\"\u001b[39m]\u001b[38;5;241m.\u001b[39munique()\n\u001b[1;32m      3\u001b[0m \u001b[38;5;28mprint\u001b[39m(\u001b[38;5;124mf\u001b[39m\u001b[38;5;124m\"\u001b[39m\u001b[38;5;124mComparing grower_docs.size with grower_docs_unq.size => \u001b[39m\u001b[38;5;132;01m{\u001b[39;00m\u001b[38;5;28mlen\u001b[39m(grower_docs)\u001b[38;5;132;01m}\u001b[39;00m\u001b[38;5;124m vs \u001b[39m\u001b[38;5;132;01m{\u001b[39;00m\u001b[38;5;28mlen\u001b[39m(grower_docs_unq)\u001b[38;5;132;01m}\u001b[39;00m\u001b[38;5;124m\"\u001b[39m)\n\u001b[0;32m----> 4\u001b[0m \u001b[38;5;28;01massert\u001b[39;00m \u001b[38;5;28mlen\u001b[39m(df[\u001b[38;5;124m\"\u001b[39m\u001b[38;5;124mmd_grower_report\u001b[39m\u001b[38;5;124m\"\u001b[39m][\u001b[38;5;124m\"\u001b[39m\u001b[38;5;124ma_grower_document\u001b[39m\u001b[38;5;124m\"\u001b[39m]) \u001b[38;5;241m==\u001b[39m \u001b[38;5;28mlen\u001b[39m(df[\u001b[38;5;124m\"\u001b[39m\u001b[38;5;124mmd_grower_report\u001b[39m\u001b[38;5;124m\"\u001b[39m][\u001b[38;5;124m\"\u001b[39m\u001b[38;5;124ma_grower_document\u001b[39m\u001b[38;5;124m\"\u001b[39m]\u001b[38;5;241m.\u001b[39munique())\n",
      "\u001b[0;31mAssertionError\u001b[0m: "
     ]
    }
   ],
   "source": [
    "grower_docs = df[\"md_grower_report\"][\"a_grower_document\"]\n",
    "grower_docs_unq = df[\"md_grower_report\"][\"a_grower_document\"].unique()\n",
    "print(f\"Comparing grower_docs.size with grower_docs_unq.size => {len(grower_docs)} vs {len(grower_docs_unq)}\")\n",
    "assert len(df[\"md_grower_report\"][\"a_grower_document\"]) == len(df[\"md_grower_report\"][\"a_grower_document\"].unique())"
   ]
  },
  {
   "cell_type": "code",
   "execution_count": 9,
   "id": "9733d23e-4c58-408b-a787-d20a0646b27b",
   "metadata": {},
   "outputs": [
    {
     "data": {
      "text/plain": [
       "(475945, 38)"
      ]
     },
     "execution_count": 9,
     "metadata": {},
     "output_type": "execute_result"
    }
   ],
   "source": [
    "df[\"md_grower_report\"].dropna(subset=[\"a_grower_document\"]).shape"
   ]
  },
  {
   "cell_type": "code",
   "execution_count": 10,
   "id": "ab6ba9fd-279d-4dea-8347-034648963295",
   "metadata": {},
   "outputs": [],
   "source": [
    "# droping empty keys\n",
    "df[\"md_grower_report\"] = df[\"md_grower_report\"].dropna(subset=[\"a_grower_document\"])"
   ]
  },
  {
   "cell_type": "code",
   "execution_count": 11,
   "id": "7f9c56f3-c7aa-4306-8423-7d0f5ae7b2db",
   "metadata": {},
   "outputs": [
    {
     "data": {
      "text/plain": [
       "(28011, 38)"
      ]
     },
     "execution_count": 11,
     "metadata": {},
     "output_type": "execute_result"
    }
   ],
   "source": [
    "ids = df[\"md_grower_report\"][\"a_grower_document\"]\n",
    "df_grower_report_dup = df[\"md_grower_report\"][ids.isin(ids[ids.duplicated()])].sort_values(\"a_grower_document\")\n",
    "df_grower_report_dup.shape"
   ]
  },
  {
   "cell_type": "code",
   "execution_count": 12,
   "id": "fd50d902-2de6-4b99-80d8-011aca82f9bc",
   "metadata": {},
   "outputs": [
    {
     "data": {
      "text/plain": [
       "(461934, 38)"
      ]
     },
     "execution_count": 12,
     "metadata": {},
     "output_type": "execute_result"
    }
   ],
   "source": [
    "# droping duplicated keys\n",
    "df[\"md_grower_report\"] = df[\"md_grower_report\"].drop_duplicates(subset=[\"a_grower_document\"], keep='first')\n",
    "df[\"md_grower_report\"].shape"
   ]
  },
  {
   "cell_type": "code",
   "execution_count": 13,
   "id": "87626959-d3be-4fc1-a60e-86838be20256",
   "metadata": {},
   "outputs": [
    {
     "data": {
      "text/plain": [
       "(871264, 117)"
      ]
     },
     "execution_count": 13,
     "metadata": {},
     "output_type": "execute_result"
    }
   ],
   "source": [
    "df_cleaned = pd.merge(\n",
    "    df[\"sales\"],\n",
    "    df[\"md_grower_report\"],\n",
    "    how=\"left\",\n",
    "    # on=None,\n",
    "    left_on=[\"a_seller_document\"],\n",
    "    right_on=[\"a_grower_document\"],\n",
    "    # left_index=False,\n",
    "    # right_index=False,\n",
    "    # sort=True,\n",
    "    suffixes=(\"_seller\", \"_grower\"),\n",
    ")\n",
    "df_cleaned.shape"
   ]
  },
  {
   "cell_type": "markdown",
   "id": "13813b19-d532-47e8-99c1-1196f3db4dbb",
   "metadata": {},
   "source": [
    "`871.264` **=** `871.264` :: **ZERO** extra amount (*first mission accomplished*)"
   ]
  },
  {
   "cell_type": "code",
   "execution_count": 14,
   "id": "6d1cff84-b0ee-4843-b2e7-acb380fa38a0",
   "metadata": {},
   "outputs": [
    {
     "data": {
      "text/plain": [
       "(871264, 155)"
      ]
     },
     "execution_count": 14,
     "metadata": {},
     "output_type": "execute_result"
    }
   ],
   "source": [
    "df_final = pd.merge(\n",
    "    df_cleaned,\n",
    "    df[\"md_grower_report\"],\n",
    "    how=\"left\",\n",
    "    # on=None,\n",
    "    left_on=[\"a_buyer_document\"],\n",
    "    right_on=[\"a_grower_document\"],\n",
    "    # left_index=False,\n",
    "    # right_index=False,\n",
    "    # sort=True,\n",
    "    suffixes=(\"_buyer\", \"_grower_2\"),\n",
    ")\n",
    "df_final.shape"
   ]
  },
  {
   "cell_type": "markdown",
   "id": "20c6381f-b4db-4a77-ad2d-ee0201bb2aa6",
   "metadata": {},
   "source": [
    "`871.264` **=** `871.264` :: **ZERO** extra amount (*double check done*)\n",
    "\n",
    "notice that the number of column are equal to `79` **+** `38` **+** `38` (**=** `155`)\n",
    "\n",
    "number of columns in `sales` = 79 / number of columns in `md_grower_report` = 38"
   ]
  },
  {
   "cell_type": "markdown",
   "id": "f8e23931-9e79-4e41-b3c1-16c869f6bf3b",
   "metadata": {},
   "source": [
    "## Analyzing columns\n",
    "\n",
    "It would be interesting to have some metrics related to each column of each table available\n",
    "\n",
    "These metrics would help to filter candidates to be used as features in our clustering model\n",
    "\n",
    "Some suggested metrics:\n",
    "- number_of_values (`done`)\n",
    "- entropy\n",
    "- uniqueness_rate (`done`)\n",
    "- count_unique_values (`done`)\n",
    "- numerical_values_rate (`done`)\n",
    "- alphabetical_values_rate (`done`)\n",
    "- mean_numerical_values\n",
    "- mean_alphabetical_values\n",
    "- std_numerical_chars_in_values\n",
    "- std_alphabetical_chars_in_values\n",
    "- mean_special_chars_in_values\n",
    "- mean_words_in_values\n",
    "- std_special_chars_in_values\n",
    "- std_words_in_values\n",
    "- percent_none_values (`done`)\n",
    "- count_none_values (`done`)\n",
    "- min_value\n",
    "- max_value\n",
    "- median_value\n",
    "- mode_value (`done`)"
   ]
  },
  {
   "cell_type": "code",
   "execution_count": 15,
   "id": "b69f4fbc-ac18-43f8-95fc-c00fc32a091d",
   "metadata": {},
   "outputs": [],
   "source": [
    "def number_of_values(series):\n",
    "    return len(series)"
   ]
  },
  {
   "cell_type": "code",
   "execution_count": 16,
   "id": "33f08ef9-8d7d-4ccf-a48a-f35f7762f92c",
   "metadata": {},
   "outputs": [],
   "source": [
    "def uniqueness_rate(series):\n",
    "    return len(series.unique()) / len(series)"
   ]
  },
  {
   "cell_type": "code",
   "execution_count": 17,
   "id": "7c0add03-14c8-45df-b9f3-7ba75da69b30",
   "metadata": {},
   "outputs": [],
   "source": [
    "def count_unique_values(series):\n",
    "    return len(series.unique())"
   ]
  },
  {
   "cell_type": "code",
   "execution_count": 18,
   "id": "d6abc97a-94e7-4f91-9813-1d3fee0086cd",
   "metadata": {},
   "outputs": [],
   "source": [
    "def numerical_values_rate(series):\n",
    "    return sum([1 if str(val).isnumeric() else 0 for val in series]) / len(series)"
   ]
  },
  {
   "cell_type": "code",
   "execution_count": 19,
   "id": "749e81e1-aac9-4567-949b-36f1ec2f5e7e",
   "metadata": {},
   "outputs": [],
   "source": [
    "def percent_none_values(series):\n",
    "    sum = 0\n",
    "    for val in series:\n",
    "        try:\n",
    "            if not str(val):  # checking falsy values\n",
    "                sum += 1\n",
    "            elif str(val).isalpha() and isnan(float(val)):  # checking nan values\n",
    "                sum += 1\n",
    "        except ValueError:\n",
    "            continue\n",
    "    return sum / len(series)"
   ]
  },
  {
   "cell_type": "code",
   "execution_count": 20,
   "id": "87a06c8c-12ae-4e3e-8a79-dd0c4bc34a2b",
   "metadata": {},
   "outputs": [],
   "source": [
    "def count_none_values(series):\n",
    "    sum = 0\n",
    "    for val in series:\n",
    "        try:\n",
    "            if not str(val):  # checking falsy values\n",
    "                sum += 1\n",
    "            elif str(val).isalpha() and isnan(float(val)):  # checking nan values\n",
    "                sum += 1\n",
    "        except ValueError:\n",
    "            continue\n",
    "    return sum"
   ]
  },
  {
   "cell_type": "code",
   "execution_count": 21,
   "id": "15b6bd7e-04b4-4319-8ab4-7702648aaef9",
   "metadata": {},
   "outputs": [],
   "source": [
    "def mode_value(series):\n",
    "    aux = {}\n",
    "    for val in series:\n",
    "        aux[val] = aux.get(val, 0) + 1\n",
    "    max_key, max_val = (0, 0)\n",
    "    for k, v in aux.items():\n",
    "        if v > max_val:\n",
    "            max_key = k\n",
    "            max_val = v\n",
    "    return max_key, max_val"
   ]
  },
  {
   "cell_type": "code",
   "execution_count": 22,
   "id": "3ec5ab57-1b4d-40b9-ad3a-987bda10e8ab",
   "metadata": {},
   "outputs": [
    {
     "data": {
      "text/plain": [
       "Index(['Unnamed: 0', 'id', 'grower_document_type', 'a_grower_document',\n",
       "       'a_grower_name', 'a_grower_fantasy_name', 'a_email', 'collaborator',\n",
       "       'cooperative', 'groundbreaker', 'precertificate', 'precertificate_from',\n",
       "       'precertificate_to', 'a_address', 'address_type', 'additional_info',\n",
       "       'neighborhood', 'state_id', 'state', 'city', 'city_id', 'region',\n",
       "       'district', 'agreement_id', 'agreement_template_id', 'technology',\n",
       "       'agreement_type', 'status', 'bid', 'creation_user', 'creation_date',\n",
       "       'sent_user', 'sent_date', 'approval_user', 'approval_date', 'comments',\n",
       "       'region_grower', 'district_grower'],\n",
       "      dtype='object')"
      ]
     },
     "execution_count": 22,
     "metadata": {},
     "output_type": "execute_result"
    }
   ],
   "source": [
    "df[\"md_grower_report\"].columns"
   ]
  },
  {
   "cell_type": "code",
   "execution_count": 23,
   "id": "5b5f18db-0ff6-48ba-8cdc-a2fb380de32d",
   "metadata": {},
   "outputs": [],
   "source": [
    "metrics = [\n",
    "    \"number_of_values\",\n",
    "    \"uniqueness_rate\",\n",
    "    \"count_unique_values\",\n",
    "    \"numerical_values_rate\",\n",
    "    \"percent_none_values\",\n",
    "    \"count_none_values\",\n",
    "    \"mode_value\",\n",
    "]"
   ]
  },
  {
   "cell_type": "code",
   "execution_count": 24,
   "id": "3c2dedef-6453-4d0f-9916-a01e29a89cd0",
   "metadata": {},
   "outputs": [],
   "source": [
    "def analysis_per_column(dff, column):\n",
    "    return {metric: globals()[metric](dff[column]) for metric in metrics}"
   ]
  },
  {
   "cell_type": "code",
   "execution_count": 25,
   "id": "51df5a05-ab25-47e0-b761-40f04a32f665",
   "metadata": {},
   "outputs": [
    {
     "data": {
      "text/plain": [
       "{'number_of_values': 461934,\n",
       " 'uniqueness_rate': 1.0,\n",
       " 'count_unique_values': 461934,\n",
       " 'numerical_values_rate': 0.0,\n",
       " 'percent_none_values': 0.0,\n",
       " 'count_none_values': 0,\n",
       " 'mode_value': (551155.0, 1)}"
      ]
     },
     "execution_count": 25,
     "metadata": {},
     "output_type": "execute_result"
    }
   ],
   "source": [
    "analysis_per_column(df[\"md_grower_report\"], \"a_grower_document\")"
   ]
  }
 ],
 "metadata": {
  "kernelspec": {
   "display_name": "Python 3 (ipykernel)",
   "language": "python",
   "name": "python3"
  },
  "language_info": {
   "codemirror_mode": {
    "name": "ipython",
    "version": 3
   },
   "file_extension": ".py",
   "mimetype": "text/x-python",
   "name": "python",
   "nbconvert_exporter": "python",
   "pygments_lexer": "ipython3",
   "version": "3.9.6"
  }
 },
 "nbformat": 4,
 "nbformat_minor": 5
}
