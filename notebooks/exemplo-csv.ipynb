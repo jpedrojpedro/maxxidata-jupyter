{
 "cells": [
  {
   "cell_type": "markdown",
   "id": "18238141-051a-4154-8ec1-cd21d646e9aa",
   "metadata": {},
   "source": [
    "## \\[Data Science\\] Full stack training\n",
    "\n",
    "- campo chave para junção das tabelas: `grower_document`\n",
    "- tabela base: `md_grower_report`\n",
    "  - corresponde ao cadastro de agricultores da Bayer"
   ]
  },
  {
   "cell_type": "code",
   "execution_count": 1,
   "id": "83f635ff-cb10-493f-b595-1ac0af391eec",
   "metadata": {},
   "outputs": [],
   "source": [
    "import numpy as np\n",
    "import pandas as pd\n",
    "import datetime as dt\n",
    "import seaborn as sns\n",
    "import matplotlib.pyplot as plt\n",
    "from math import isnan\n",
    "from pathlib import Path"
   ]
  },
  {
   "cell_type": "code",
   "execution_count": 2,
   "id": "04d22db7-dfe5-4405-a16c-6e47f0be566f",
   "metadata": {},
   "outputs": [],
   "source": [
    "pd.set_option('display.max_columns', None)"
   ]
  },
  {
   "cell_type": "code",
   "execution_count": 3,
   "id": "b64df1bf-544b-4b97-9cea-7abf14ce764f",
   "metadata": {},
   "outputs": [],
   "source": [
    "INPUT_FOLDER = Path.cwd().parent / \"inputs\""
   ]
  },
  {
   "cell_type": "code",
   "execution_count": 4,
   "id": "fd45ad34-a200-4f82-ad8b-67aed503fdee",
   "metadata": {},
   "outputs": [],
   "source": [
    "csv_files = Path(INPUT_FOLDER).glob('**/*.csv')"
   ]
  },
  {
   "cell_type": "code",
   "execution_count": 5,
   "id": "d94bcfee-5647-45f5-b99e-faae2acf8457",
   "metadata": {},
   "outputs": [
    {
     "name": "stderr",
     "output_type": "stream",
     "text": [
      "/var/folders/g0/342sbsdd56173k7xyxgl_jh1w0chb5/T/ipykernel_4306/670898405.py:1: DtypeWarning: Columns (38,40) have mixed types. Specify dtype option on import or set low_memory=False.\n",
      "  df = {f\"{csv_file.name[10:-4]}\": pd.read_csv(csv_file) for csv_file in csv_files}\n",
      "/var/folders/g0/342sbsdd56173k7xyxgl_jh1w0chb5/T/ipykernel_4306/670898405.py:1: DtypeWarning: Columns (1,2,39) have mixed types. Specify dtype option on import or set low_memory=False.\n",
      "  df = {f\"{csv_file.name[10:-4]}\": pd.read_csv(csv_file) for csv_file in csv_files}\n",
      "/var/folders/g0/342sbsdd56173k7xyxgl_jh1w0chb5/T/ipykernel_4306/670898405.py:1: DtypeWarning: Columns (37,47) have mixed types. Specify dtype option on import or set low_memory=False.\n",
      "  df = {f\"{csv_file.name[10:-4]}\": pd.read_csv(csv_file) for csv_file in csv_files}\n"
     ]
    }
   ],
   "source": [
    "df = {f\"{csv_file.name[10:-4]}\": pd.read_csv(csv_file) for csv_file in csv_files}"
   ]
  },
  {
   "cell_type": "code",
   "execution_count": 6,
   "id": "54d33959-9f31-45c9-a0c4-d9d557f16cf6",
   "metadata": {},
   "outputs": [
    {
     "data": {
      "text/plain": [
       "dict_keys(['sales', 'disque_intacta', 'md_grower_report', 'saved_seeds', 'entered_area'])"
      ]
     },
     "execution_count": 6,
     "metadata": {},
     "output_type": "execute_result"
    }
   ],
   "source": [
    "df.keys()"
   ]
  },
  {
   "cell_type": "markdown",
   "id": "ef95af41-0e0d-4f5e-833f-9730a9c8714d",
   "metadata": {},
   "source": [
    "## Tables:\n",
    "\n",
    "- **sales** => (871.264, 79) - (a_seller_document, **a_buyer_document**)\n",
    "- **disque_intacta** => (385.716, 51)\n",
    "- **md_grower_report** => (514.182, 38) - (a_grower_document)\n",
    "- **saved_seeds** => (19.648, 72)\n",
    "- **entered_area** => (51.262, 40)\n",
    "\n",
    "### Filters\n",
    "- Growers who purchased at least once in the last 24 months from T0\n",
    "- Growers who purchased for the first time in the last 6 months from T0 must be classified as NEW in a separate segment"
   ]
  },
  {
   "cell_type": "markdown",
   "id": "cc8112b0-c40f-440d-abf3-c1cde2e5d322",
   "metadata": {},
   "source": [
    "## Dealing with duplicated data\n",
    "\n",
    "An initial `left outer join` between `sales` and `md_grower_report` was resulting an amount greater than the number of rows of `sales`\n",
    "\n",
    "This raised a red flag because probably there were duplicated keys in `md_grower_report`\n",
    "\n",
    "Then, I started investigating"
   ]
  },
  {
   "cell_type": "code",
   "execution_count": 7,
   "id": "8963b6a9-fbc0-4a7c-8ec7-0d0fbf7859b3",
   "metadata": {},
   "outputs": [
    {
     "data": {
      "text/plain": [
       "(882551, 117)"
      ]
     },
     "execution_count": 7,
     "metadata": {},
     "output_type": "execute_result"
    }
   ],
   "source": [
    "df_dup_detected = pd.merge(\n",
    "    df[\"sales\"],\n",
    "    df[\"md_grower_report\"],\n",
    "    how=\"left\",\n",
    "    # on=None,\n",
    "    left_on=[\"a_buyer_document\"],\n",
    "    right_on=[\"a_grower_document\"],\n",
    "    # left_index=False,\n",
    "    # right_index=False,\n",
    "    # sort=True,\n",
    "    suffixes=(\"_seller\", \"_grower\"),\n",
    ")\n",
    "df_dup_detected.shape"
   ]
  },
  {
   "cell_type": "markdown",
   "id": "115ec915-052b-4b7d-833a-8a43dd45498a",
   "metadata": {},
   "source": [
    "`896.150` **>** `871.264` :: `24.886` extra amount (**!!!**)"
   ]
  },
  {
   "cell_type": "code",
   "execution_count": 8,
   "id": "eca7c46e-4663-4d49-9be2-58335c6a038d",
   "metadata": {},
   "outputs": [
    {
     "name": "stdout",
     "output_type": "stream",
     "text": [
      "Comparing grower_docs.size with grower_docs_unq.size => 514182 vs 461935\n"
     ]
    },
    {
     "ename": "AssertionError",
     "evalue": "",
     "output_type": "error",
     "traceback": [
      "\u001b[0;31m---------------------------------------------------------------------------\u001b[0m",
      "\u001b[0;31mAssertionError\u001b[0m                            Traceback (most recent call last)",
      "Input \u001b[0;32mIn [8]\u001b[0m, in \u001b[0;36m<cell line: 4>\u001b[0;34m()\u001b[0m\n\u001b[1;32m      2\u001b[0m grower_docs_unq \u001b[38;5;241m=\u001b[39m df[\u001b[38;5;124m\"\u001b[39m\u001b[38;5;124mmd_grower_report\u001b[39m\u001b[38;5;124m\"\u001b[39m][\u001b[38;5;124m\"\u001b[39m\u001b[38;5;124ma_grower_document\u001b[39m\u001b[38;5;124m\"\u001b[39m]\u001b[38;5;241m.\u001b[39munique()\n\u001b[1;32m      3\u001b[0m \u001b[38;5;28mprint\u001b[39m(\u001b[38;5;124mf\u001b[39m\u001b[38;5;124m\"\u001b[39m\u001b[38;5;124mComparing grower_docs.size with grower_docs_unq.size => \u001b[39m\u001b[38;5;132;01m{\u001b[39;00m\u001b[38;5;28mlen\u001b[39m(grower_docs)\u001b[38;5;132;01m}\u001b[39;00m\u001b[38;5;124m vs \u001b[39m\u001b[38;5;132;01m{\u001b[39;00m\u001b[38;5;28mlen\u001b[39m(grower_docs_unq)\u001b[38;5;132;01m}\u001b[39;00m\u001b[38;5;124m\"\u001b[39m)\n\u001b[0;32m----> 4\u001b[0m \u001b[38;5;28;01massert\u001b[39;00m \u001b[38;5;28mlen\u001b[39m(df[\u001b[38;5;124m\"\u001b[39m\u001b[38;5;124mmd_grower_report\u001b[39m\u001b[38;5;124m\"\u001b[39m][\u001b[38;5;124m\"\u001b[39m\u001b[38;5;124ma_grower_document\u001b[39m\u001b[38;5;124m\"\u001b[39m]) \u001b[38;5;241m==\u001b[39m \u001b[38;5;28mlen\u001b[39m(df[\u001b[38;5;124m\"\u001b[39m\u001b[38;5;124mmd_grower_report\u001b[39m\u001b[38;5;124m\"\u001b[39m][\u001b[38;5;124m\"\u001b[39m\u001b[38;5;124ma_grower_document\u001b[39m\u001b[38;5;124m\"\u001b[39m]\u001b[38;5;241m.\u001b[39munique())\n",
      "\u001b[0;31mAssertionError\u001b[0m: "
     ]
    }
   ],
   "source": [
    "grower_docs = df[\"md_grower_report\"][\"a_grower_document\"]\n",
    "grower_docs_unq = df[\"md_grower_report\"][\"a_grower_document\"].unique()\n",
    "print(f\"Comparing grower_docs.size with grower_docs_unq.size => {len(grower_docs)} vs {len(grower_docs_unq)}\")\n",
    "assert len(df[\"md_grower_report\"][\"a_grower_document\"]) == len(df[\"md_grower_report\"][\"a_grower_document\"].unique())"
   ]
  },
  {
   "cell_type": "code",
   "execution_count": 9,
   "id": "9733d23e-4c58-408b-a787-d20a0646b27b",
   "metadata": {},
   "outputs": [
    {
     "data": {
      "text/plain": [
       "(475945, 38)"
      ]
     },
     "execution_count": 9,
     "metadata": {},
     "output_type": "execute_result"
    }
   ],
   "source": [
    "df[\"md_grower_report\"].dropna(subset=[\"a_grower_document\"]).shape"
   ]
  },
  {
   "cell_type": "code",
   "execution_count": 10,
   "id": "ab6ba9fd-279d-4dea-8347-034648963295",
   "metadata": {},
   "outputs": [],
   "source": [
    "# droping empty keys\n",
    "df[\"md_grower_report\"] = df[\"md_grower_report\"].dropna(subset=[\"a_grower_document\"])"
   ]
  },
  {
   "cell_type": "code",
   "execution_count": 11,
   "id": "7f9c56f3-c7aa-4306-8423-7d0f5ae7b2db",
   "metadata": {},
   "outputs": [
    {
     "data": {
      "text/plain": [
       "(28011, 38)"
      ]
     },
     "execution_count": 11,
     "metadata": {},
     "output_type": "execute_result"
    }
   ],
   "source": [
    "ids = df[\"md_grower_report\"][\"a_grower_document\"]\n",
    "df_grower_report_dup = df[\"md_grower_report\"][ids.isin(ids[ids.duplicated()])].sort_values(\"a_grower_document\")\n",
    "df_grower_report_dup.shape"
   ]
  },
  {
   "cell_type": "code",
   "execution_count": 12,
   "id": "fd50d902-2de6-4b99-80d8-011aca82f9bc",
   "metadata": {},
   "outputs": [
    {
     "data": {
      "text/plain": [
       "(461934, 38)"
      ]
     },
     "execution_count": 12,
     "metadata": {},
     "output_type": "execute_result"
    }
   ],
   "source": [
    "# droping duplicated keys\n",
    "df[\"md_grower_report\"] = df[\"md_grower_report\"].drop_duplicates(subset=[\"a_grower_document\"], keep='first')\n",
    "df[\"md_grower_report\"].shape"
   ]
  },
  {
   "cell_type": "code",
   "execution_count": 13,
   "id": "87626959-d3be-4fc1-a60e-86838be20256",
   "metadata": {},
   "outputs": [
    {
     "data": {
      "text/plain": [
       "(871264, 117)"
      ]
     },
     "execution_count": 13,
     "metadata": {},
     "output_type": "execute_result"
    }
   ],
   "source": [
    "df_cleaned = pd.merge(\n",
    "    df[\"sales\"],\n",
    "    df[\"md_grower_report\"],\n",
    "    how=\"left\",\n",
    "    # on=None,\n",
    "    left_on=[\"a_buyer_document\"],\n",
    "    right_on=[\"a_grower_document\"],\n",
    "    # left_index=False,\n",
    "    # right_index=False,\n",
    "    # sort=True,\n",
    "    suffixes=(\"_seller\", \"_grower\"),\n",
    ")\n",
    "df_cleaned.shape"
   ]
  },
  {
   "cell_type": "markdown",
   "id": "13813b19-d532-47e8-99c1-1196f3db4dbb",
   "metadata": {},
   "source": [
    "`871.264` **=** `871.264` :: **ZERO** extra amount (*first mission accomplished*)"
   ]
  },
  {
   "cell_type": "markdown",
   "id": "f8e23931-9e79-4e41-b3c1-16c869f6bf3b",
   "metadata": {},
   "source": [
    "## Analyzing columns\n",
    "\n",
    "It would be interesting to have some metrics related to each column of each table available\n",
    "\n",
    "These metrics would help to filter candidates to be used as features in our clustering model\n",
    "\n",
    "Some suggested metrics:\n",
    "- number_of_values (`done`)\n",
    "- entropy\n",
    "- uniqueness_rate (`done`)\n",
    "- count_unique_values (`done`)\n",
    "- numerical_values_rate (`done`)\n",
    "- alphabetical_values_rate (`done`)\n",
    "- mean_numerical_values\n",
    "- mean_alphabetical_values\n",
    "- std_numerical_chars_in_values\n",
    "- std_alphabetical_chars_in_values\n",
    "- mean_special_chars_in_values\n",
    "- mean_words_in_values\n",
    "- std_special_chars_in_values\n",
    "- std_words_in_values\n",
    "- percent_none_values (`done`)\n",
    "- count_none_values (`done`)\n",
    "- min_value\n",
    "- max_value\n",
    "- median_value\n",
    "- mode_value (`done`)"
   ]
  },
  {
   "cell_type": "code",
   "execution_count": 14,
   "id": "b69f4fbc-ac18-43f8-95fc-c00fc32a091d",
   "metadata": {},
   "outputs": [],
   "source": [
    "def number_of_values(series):\n",
    "    return len(series)"
   ]
  },
  {
   "cell_type": "code",
   "execution_count": 15,
   "id": "33f08ef9-8d7d-4ccf-a48a-f35f7762f92c",
   "metadata": {},
   "outputs": [],
   "source": [
    "def uniqueness_rate(series):\n",
    "    return len(series.unique()) / len(series)"
   ]
  },
  {
   "cell_type": "code",
   "execution_count": 16,
   "id": "7c0add03-14c8-45df-b9f3-7ba75da69b30",
   "metadata": {},
   "outputs": [],
   "source": [
    "def count_unique_values(series):\n",
    "    return len(series.unique())"
   ]
  },
  {
   "cell_type": "code",
   "execution_count": 17,
   "id": "d6abc97a-94e7-4f91-9813-1d3fee0086cd",
   "metadata": {},
   "outputs": [],
   "source": [
    "def numerical_values_rate(series):\n",
    "    return sum([1 if str(val).isnumeric() else 0 for val in series]) / len(series)"
   ]
  },
  {
   "cell_type": "code",
   "execution_count": 18,
   "id": "749e81e1-aac9-4567-949b-36f1ec2f5e7e",
   "metadata": {},
   "outputs": [],
   "source": [
    "def percent_none_values(series):\n",
    "    sum = 0\n",
    "    for val in series:\n",
    "        try:\n",
    "            if not str(val):  # checking falsy values\n",
    "                sum += 1\n",
    "            elif str(val).isalpha() and isnan(float(val)):  # checking nan values\n",
    "                sum += 1\n",
    "        except ValueError:\n",
    "            continue\n",
    "    return sum / len(series)"
   ]
  },
  {
   "cell_type": "code",
   "execution_count": 19,
   "id": "87a06c8c-12ae-4e3e-8a79-dd0c4bc34a2b",
   "metadata": {},
   "outputs": [],
   "source": [
    "def count_none_values(series):\n",
    "    sum = 0\n",
    "    for val in series:\n",
    "        try:\n",
    "            if not str(val):  # checking falsy values\n",
    "                sum += 1\n",
    "            elif str(val).isalpha() and isnan(float(val)):  # checking nan values\n",
    "                sum += 1\n",
    "        except ValueError:\n",
    "            continue\n",
    "    return sum"
   ]
  },
  {
   "cell_type": "code",
   "execution_count": 20,
   "id": "15b6bd7e-04b4-4319-8ab4-7702648aaef9",
   "metadata": {},
   "outputs": [],
   "source": [
    "def mode_value(series):\n",
    "    aux = {}\n",
    "    for val in series:\n",
    "        aux[val] = aux.get(val, 0) + 1\n",
    "    max_key, max_val = (0, 0)\n",
    "    for k, v in aux.items():\n",
    "        if v > max_val:\n",
    "            max_key = k\n",
    "            max_val = v\n",
    "    return max_key, max_val"
   ]
  },
  {
   "cell_type": "code",
   "execution_count": 21,
   "id": "3ec5ab57-1b4d-40b9-ad3a-987bda10e8ab",
   "metadata": {},
   "outputs": [
    {
     "data": {
      "text/plain": [
       "Index(['Unnamed: 0', 'id', 'grower_document_type', 'a_grower_document',\n",
       "       'a_grower_name', 'a_grower_fantasy_name', 'a_email', 'collaborator',\n",
       "       'cooperative', 'groundbreaker', 'precertificate', 'precertificate_from',\n",
       "       'precertificate_to', 'a_address', 'address_type', 'additional_info',\n",
       "       'neighborhood', 'state_id', 'state', 'city', 'city_id', 'region',\n",
       "       'district', 'agreement_id', 'agreement_template_id', 'technology',\n",
       "       'agreement_type', 'status', 'bid', 'creation_user', 'creation_date',\n",
       "       'sent_user', 'sent_date', 'approval_user', 'approval_date', 'comments',\n",
       "       'region_grower', 'district_grower'],\n",
       "      dtype='object')"
      ]
     },
     "execution_count": 21,
     "metadata": {},
     "output_type": "execute_result"
    }
   ],
   "source": [
    "df[\"md_grower_report\"].columns"
   ]
  },
  {
   "cell_type": "code",
   "execution_count": 22,
   "id": "5b5f18db-0ff6-48ba-8cdc-a2fb380de32d",
   "metadata": {},
   "outputs": [],
   "source": [
    "metrics = [\n",
    "    \"number_of_values\",\n",
    "    \"uniqueness_rate\",\n",
    "    \"count_unique_values\",\n",
    "    \"numerical_values_rate\",\n",
    "    \"percent_none_values\",\n",
    "    \"count_none_values\",\n",
    "    \"mode_value\",\n",
    "]"
   ]
  },
  {
   "cell_type": "code",
   "execution_count": 23,
   "id": "3c2dedef-6453-4d0f-9916-a01e29a89cd0",
   "metadata": {},
   "outputs": [],
   "source": [
    "def analysis_per_column(dff, column):\n",
    "    return {metric: globals()[metric](dff[column]) for metric in metrics}"
   ]
  },
  {
   "cell_type": "code",
   "execution_count": 24,
   "id": "51df5a05-ab25-47e0-b761-40f04a32f665",
   "metadata": {},
   "outputs": [
    {
     "data": {
      "text/plain": [
       "{'number_of_values': 461934,\n",
       " 'uniqueness_rate': 6.061471985175371e-05,\n",
       " 'count_unique_values': 28,\n",
       " 'numerical_values_rate': 0.0,\n",
       " 'percent_none_values': 2.38129256560461e-05,\n",
       " 'count_none_values': 11,\n",
       " 'mode_value': ('Paraná', 162682)}"
      ]
     },
     "execution_count": 24,
     "metadata": {},
     "output_type": "execute_result"
    }
   ],
   "source": [
    "analysis_per_column(df[\"md_grower_report\"], \"state\")"
   ]
  },
  {
   "cell_type": "code",
   "execution_count": 27,
   "id": "f61eeb57-4261-4f9b-aed3-d3ab5079a54c",
   "metadata": {},
   "outputs": [
    {
     "data": {
      "text/plain": [
       "{'number_of_values': 871264,\n",
       " 'uniqueness_rate': 0.18058935064458076,\n",
       " 'count_unique_values': 157341,\n",
       " 'numerical_values_rate': 1.0,\n",
       " 'percent_none_values': 0.0,\n",
       " 'count_none_values': 0,\n",
       " 'mode_value': (818151, 4507)}"
      ]
     },
     "execution_count": 27,
     "metadata": {},
     "output_type": "execute_result"
    }
   ],
   "source": [
    "analysis_per_column(df_cleaned, \"a_buyer_document\")"
   ]
  },
  {
   "cell_type": "markdown",
   "id": "371a1c45-63cf-4680-97b5-facb18c11779",
   "metadata": {},
   "source": [
    "## Reducing the dataframe - applying date filters\n",
    "\n",
    "- assigning two variables\n",
    "  - `year`: it will be used to filter growers who purchased in the last two years\n",
    "  - `half_year`: it will be used to filter brand new growers who had their first purchased in the last 6 months"
   ]
  },
  {
   "cell_type": "code",
   "execution_count": 28,
   "id": "56f2364f-324b-40d4-b3f1-e15484618523",
   "metadata": {},
   "outputs": [],
   "source": [
    "year = dt.timedelta(days=365)\n",
    "half_year = dt.timedelta(days=365) // 2"
   ]
  },
  {
   "cell_type": "code",
   "execution_count": 55,
   "id": "aa1e27ea-8d56-4b0a-adf5-22556c446608",
   "metadata": {},
   "outputs": [],
   "source": [
    "df_filtered_date = df_cleaned[df_cleaned[\"billing_date\"] >= str(dt.date.today() - 2 * year)]"
   ]
  },
  {
   "cell_type": "code",
   "execution_count": 56,
   "id": "b5ac3240-8ced-4153-9b6f-82a90e9e6321",
   "metadata": {},
   "outputs": [
    {
     "data": {
      "text/plain": [
       "(355142, 117)"
      ]
     },
     "execution_count": 56,
     "metadata": {},
     "output_type": "execute_result"
    }
   ],
   "source": [
    "df_filtered_date.shape"
   ]
  },
  {
   "cell_type": "markdown",
   "id": "af0c755c-496b-4a7d-a038-f1baac3e105d",
   "metadata": {},
   "source": [
    "Dataset reduced from `871.264` to `355.142`\n",
    "\n",
    "Now we're going to perform some aggregations to find out:\n",
    "- amount of purchases\n",
    "- first purchase\n",
    "- last purchase"
   ]
  },
  {
   "cell_type": "code",
   "execution_count": 57,
   "id": "87dc9383-f6ed-449a-9e2c-734a40efdc1f",
   "metadata": {},
   "outputs": [
    {
     "data": {
      "text/plain": [
       "['Distribuidor para Agricultor',\n",
       " 'Multiplicador para Agricultor',\n",
       " 'Multiplicador para Agricultor - Agroeste']"
      ]
     },
     "execution_count": 57,
     "metadata": {},
     "output_type": "execute_result"
    }
   ],
   "source": [
    "[st for st in list(df_cleaned[\"sale_type\"].unique()) if \"para Agricultor\" in str(st)]"
   ]
  },
  {
   "cell_type": "code",
   "execution_count": 58,
   "id": "34e46f02-bbb2-4204-90be-ff487219e538",
   "metadata": {},
   "outputs": [
    {
     "data": {
      "text/plain": [
       "array(['REGISTERED', 'PAID', 'CANCELLED', 'BILLED', 'PENDING_VALIDATION',\n",
       "       'REJECTED', 'SALE_REGISTERED', 'VALIDATED'], dtype=object)"
      ]
     },
     "execution_count": 58,
     "metadata": {},
     "output_type": "execute_result"
    }
   ],
   "source": [
    "df_cleaned[\"sale_item_status\"].unique()  # REGISTERED, PAID, BILLED, VALIDATED, SALE_REGISTERED"
   ]
  },
  {
   "cell_type": "code",
   "execution_count": 59,
   "id": "388a68ab-3785-40c8-881d-bcad76ded9b9",
   "metadata": {},
   "outputs": [
    {
     "data": {
      "text/plain": [
       "(246348, 117)"
      ]
     },
     "execution_count": 59,
     "metadata": {},
     "output_type": "execute_result"
    }
   ],
   "source": [
    "df1 = df_filtered_date[(df_filtered_date[\"sale_type\"] == \"Distribuidor para Agricultor\") | (df_filtered_date[\"sale_type\"] == \"Multiplicador para Agricultor\")]\n",
    "df1.shape"
   ]
  },
  {
   "cell_type": "code",
   "execution_count": 60,
   "id": "29db97d3-5329-46c1-856e-ed854ed024bf",
   "metadata": {},
   "outputs": [
    {
     "data": {
      "text/plain": [
       "(246348, 117)"
      ]
     },
     "execution_count": 60,
     "metadata": {},
     "output_type": "execute_result"
    }
   ],
   "source": [
    "df2 = df1[(df1[\"sale_item_status\"] != \"CANCELLED\") & (df1[\"sale_item_status\"] != \"REJECTED\") & (df1[\"sale_item_status\"] != \"PENDING_VALIDATION\")]\n",
    "df2.shape"
   ]
  },
  {
   "cell_type": "code",
   "execution_count": 61,
   "id": "79f7b99b-11d6-4290-bb3c-e3b515dc7ffb",
   "metadata": {},
   "outputs": [
    {
     "data": {
      "text/html": [
       "<div>\n",
       "<style scoped>\n",
       "    .dataframe tbody tr th:only-of-type {\n",
       "        vertical-align: middle;\n",
       "    }\n",
       "\n",
       "    .dataframe tbody tr th {\n",
       "        vertical-align: top;\n",
       "    }\n",
       "\n",
       "    .dataframe thead th {\n",
       "        text-align: right;\n",
       "    }\n",
       "</style>\n",
       "<table border=\"1\" class=\"dataframe\">\n",
       "  <thead>\n",
       "    <tr style=\"text-align: right;\">\n",
       "      <th></th>\n",
       "      <th>a_buyer_document</th>\n",
       "      <th>sales</th>\n",
       "      <th>first_sale</th>\n",
       "      <th>last_sale</th>\n",
       "    </tr>\n",
       "  </thead>\n",
       "  <tbody>\n",
       "    <tr>\n",
       "      <th>34372</th>\n",
       "      <td>536706</td>\n",
       "      <td>378</td>\n",
       "      <td>2020-09-18</td>\n",
       "      <td>2022-01-07</td>\n",
       "    </tr>\n",
       "    <tr>\n",
       "      <th>35584</th>\n",
       "      <td>548382</td>\n",
       "      <td>357</td>\n",
       "      <td>2020-09-12</td>\n",
       "      <td>2021-11-26</td>\n",
       "    </tr>\n",
       "    <tr>\n",
       "      <th>74083</th>\n",
       "      <td>940123</td>\n",
       "      <td>282</td>\n",
       "      <td>2020-09-03</td>\n",
       "      <td>2021-11-08</td>\n",
       "    </tr>\n",
       "    <tr>\n",
       "      <th>6474</th>\n",
       "      <td>166350</td>\n",
       "      <td>222</td>\n",
       "      <td>2020-09-18</td>\n",
       "      <td>2021-10-21</td>\n",
       "    </tr>\n",
       "    <tr>\n",
       "      <th>52161</th>\n",
       "      <td>718371</td>\n",
       "      <td>216</td>\n",
       "      <td>2020-09-04</td>\n",
       "      <td>2021-10-23</td>\n",
       "    </tr>\n",
       "    <tr>\n",
       "      <th>...</th>\n",
       "      <td>...</td>\n",
       "      <td>...</td>\n",
       "      <td>...</td>\n",
       "      <td>...</td>\n",
       "    </tr>\n",
       "    <tr>\n",
       "      <th>54875</th>\n",
       "      <td>746081</td>\n",
       "      <td>1</td>\n",
       "      <td>2021-11-19</td>\n",
       "      <td>2021-11-19</td>\n",
       "    </tr>\n",
       "    <tr>\n",
       "      <th>54874</th>\n",
       "      <td>746079</td>\n",
       "      <td>1</td>\n",
       "      <td>2020-10-22</td>\n",
       "      <td>2020-10-22</td>\n",
       "    </tr>\n",
       "    <tr>\n",
       "      <th>54873</th>\n",
       "      <td>746078</td>\n",
       "      <td>1</td>\n",
       "      <td>2021-11-29</td>\n",
       "      <td>2021-11-29</td>\n",
       "    </tr>\n",
       "    <tr>\n",
       "      <th>19980</th>\n",
       "      <td>303710</td>\n",
       "      <td>1</td>\n",
       "      <td>2021-10-13</td>\n",
       "      <td>2021-10-13</td>\n",
       "    </tr>\n",
       "    <tr>\n",
       "      <th>56618</th>\n",
       "      <td>764433</td>\n",
       "      <td>1</td>\n",
       "      <td>2021-10-22</td>\n",
       "      <td>2021-10-22</td>\n",
       "    </tr>\n",
       "  </tbody>\n",
       "</table>\n",
       "<p>76229 rows × 4 columns</p>\n",
       "</div>"
      ],
      "text/plain": [
       "       a_buyer_document  sales  first_sale   last_sale\n",
       "34372            536706    378  2020-09-18  2022-01-07\n",
       "35584            548382    357  2020-09-12  2021-11-26\n",
       "74083            940123    282  2020-09-03  2021-11-08\n",
       "6474             166350    222  2020-09-18  2021-10-21\n",
       "52161            718371    216  2020-09-04  2021-10-23\n",
       "...                 ...    ...         ...         ...\n",
       "54875            746081      1  2021-11-19  2021-11-19\n",
       "54874            746079      1  2020-10-22  2020-10-22\n",
       "54873            746078      1  2021-11-29  2021-11-29\n",
       "19980            303710      1  2021-10-13  2021-10-13\n",
       "56618            764433      1  2021-10-22  2021-10-22\n",
       "\n",
       "[76229 rows x 4 columns]"
      ]
     },
     "execution_count": 61,
     "metadata": {},
     "output_type": "execute_result"
    }
   ],
   "source": [
    "dff = df2.groupby(\"a_buyer_document\") \\\n",
    "         .agg(sales=pd.NamedAgg(column=\"sale_id\", aggfunc=\"count\"),\n",
    "              first_sale=pd.NamedAgg(column=\"invoice_date\", aggfunc=\"min\"),\n",
    "              last_sale=pd.NamedAgg(column=\"invoice_date\", aggfunc=\"max\")\n",
    "         )\n",
    "dff.reset_index(inplace=True)\n",
    "dff.sort_values(by=[\"sales\"], ascending=False)"
   ]
  },
  {
   "cell_type": "markdown",
   "id": "b79da279-a944-44c5-b226-e6ac8ec5a5d0",
   "metadata": {},
   "source": [
    "Plotting histogram to understand data distribution based on amount of sales"
   ]
  },
  {
   "cell_type": "code",
   "execution_count": 62,
   "id": "bc94fef9-2d1f-4c69-81f8-c915999def09",
   "metadata": {},
   "outputs": [
    {
     "data": {
      "image/png": "[encoded data removed]",
      "text/plain": [
       "<Figure size 1152x576 with 1 Axes>"
      ]
     },
     "metadata": {
      "needs_background": "light"
     },
     "output_type": "display_data"
    }
   ],
   "source": [
    "plt.figure(figsize=(16, 8))\n",
    "sns.histplot(dff['sales'], bins=50)\n",
    "plt.close(2)"
   ]
  },
  {
   "cell_type": "markdown",
   "id": "086eccab-1cda-4a13-8e84-372eb3947c8c",
   "metadata": {},
   "source": [
    "Creating buckets based on histogram"
   ]
  },
  {
   "cell_type": "code",
   "execution_count": 63,
   "id": "4d0f6701-5492-47e3-b7b3-8731561dc422",
   "metadata": {},
   "outputs": [],
   "source": [
    "conditions = [\n",
    "    (dff[\"sales\"] > 0) & (dff[\"sales\"] <= 50),\n",
    "    (dff[\"sales\"] > 50) & (dff[\"sales\"] <= 100),\n",
    "    (dff[\"sales\"] > 100) & (dff[\"sales\"] <= 150),\n",
    "    (dff[\"sales\"] > 150) & (dff[\"sales\"] <= 200),\n",
    "    (dff[\"sales\"] > 200) & (dff[\"sales\"] <= 250),\n",
    "    (dff[\"sales\"] > 250) & (dff[\"sales\"] <= 300),\n",
    "    (dff[\"sales\"] > 300) & (dff[\"sales\"] <= 350),\n",
    "    (dff[\"sales\"] > 350) & (dff[\"sales\"] <= 400),\n",
    "    (dff[\"sales\"] > 400) & (dff[\"sales\"] <= 450),\n",
    "    (dff[\"sales\"] > 450) & (dff[\"sales\"] <= 500),\n",
    "    (dff[\"sales\"] > 500)\n",
    "]\n",
    "buckets = [\"0-50\", \"51-100\", \"101-150\", \"151-200\", \"201-250\", \"251-300\", \"301-350\", \"351-400\", \"401-450\", \"451-500\", \"501+\"]\n",
    "dff[\"amount_sales_cat\"] = np.select(conditions, buckets)"
   ]
  },
  {
   "cell_type": "code",
   "execution_count": 65,
   "id": "0ae64390-3050-4161-89f4-b24de3f7d673",
   "metadata": {},
   "outputs": [
    {
     "data": {
      "text/html": [
       "<div>\n",
       "<style scoped>\n",
       "    .dataframe tbody tr th:only-of-type {\n",
       "        vertical-align: middle;\n",
       "    }\n",
       "\n",
       "    .dataframe tbody tr th {\n",
       "        vertical-align: top;\n",
       "    }\n",
       "\n",
       "    .dataframe thead th {\n",
       "        text-align: right;\n",
       "    }\n",
       "</style>\n",
       "<table border=\"1\" class=\"dataframe\">\n",
       "  <thead>\n",
       "    <tr style=\"text-align: right;\">\n",
       "      <th></th>\n",
       "      <th>amount_sales_cat</th>\n",
       "      <th>total</th>\n",
       "    </tr>\n",
       "  </thead>\n",
       "  <tbody>\n",
       "    <tr>\n",
       "      <th>6</th>\n",
       "      <td>51-100</td>\n",
       "      <td>124</td>\n",
       "    </tr>\n",
       "    <tr>\n",
       "      <th>5</th>\n",
       "      <td>351-400</td>\n",
       "      <td>2</td>\n",
       "    </tr>\n",
       "    <tr>\n",
       "      <th>4</th>\n",
       "      <td>251-300</td>\n",
       "      <td>1</td>\n",
       "    </tr>\n",
       "    <tr>\n",
       "      <th>3</th>\n",
       "      <td>201-250</td>\n",
       "      <td>2</td>\n",
       "    </tr>\n",
       "    <tr>\n",
       "      <th>2</th>\n",
       "      <td>151-200</td>\n",
       "      <td>7</td>\n",
       "    </tr>\n",
       "    <tr>\n",
       "      <th>1</th>\n",
       "      <td>101-150</td>\n",
       "      <td>16</td>\n",
       "    </tr>\n",
       "    <tr>\n",
       "      <th>0</th>\n",
       "      <td>0-50</td>\n",
       "      <td>76077</td>\n",
       "    </tr>\n",
       "  </tbody>\n",
       "</table>\n",
       "</div>"
      ],
      "text/plain": [
       "  amount_sales_cat  total\n",
       "6           51-100    124\n",
       "5          351-400      2\n",
       "4          251-300      1\n",
       "3          201-250      2\n",
       "2          151-200      7\n",
       "1          101-150     16\n",
       "0             0-50  76077"
      ]
     },
     "execution_count": 65,
     "metadata": {},
     "output_type": "execute_result"
    }
   ],
   "source": [
    "dff_buckets = dff.groupby(\"amount_sales_cat\")\\\n",
    "                 .agg(total=pd.NamedAgg(column=\"a_buyer_document\", aggfunc=\"count\"))\n",
    "dff_buckets.reset_index(inplace=True)\n",
    "dff_buckets.sort_values(by=[\"amount_sales_cat\"], ascending=False)"
   ]
  },
  {
   "cell_type": "code",
   "execution_count": 66,
   "id": "64e80eab-6199-4db9-9003-2e06f06817db",
   "metadata": {},
   "outputs": [
    {
     "data": {
      "text/plain": [
       "2.0"
      ]
     },
     "execution_count": 66,
     "metadata": {},
     "output_type": "execute_result"
    }
   ],
   "source": [
    "dff[\"sales\"].quantile(.5)"
   ]
  },
  {
   "cell_type": "code",
   "execution_count": 71,
   "id": "169e30b6-735d-46a1-af86-04aa3aaf32a5",
   "metadata": {},
   "outputs": [
    {
     "data": {
      "text/plain": [
       "0.250     1.0\n",
       "0.500     2.0\n",
       "0.750     3.0\n",
       "0.990    22.0\n",
       "0.999    68.0\n",
       "Name: sales, dtype: float64"
      ]
     },
     "execution_count": 71,
     "metadata": {},
     "output_type": "execute_result"
    }
   ],
   "source": [
    "# 99% dos agricultores tem 22 compras\n",
    "dff[\"sales\"].quantile([.25, .5, .75, .99, .999])"
   ]
  },
  {
   "cell_type": "code",
   "execution_count": null,
   "id": "84fc771e-2005-47cf-b580-05277249c53c",
   "metadata": {},
   "outputs": [],
   "source": [
    "# dff.groupby(\"amount_sales_cat\").agg(total=pd.NamedAgg(column=\"a_buyer_document\", aggfunc=\"count\"))"
   ]
  },
  {
   "cell_type": "code",
   "execution_count": null,
   "id": "36bd3f6c-4ad1-438b-b555-1a204240b873",
   "metadata": {},
   "outputs": [],
   "source": [
    "# plt.figure(figsize=(16, 8))\n",
    "# sns.histplot(dff['sales'], bins=50)\n",
    "# plt.close(2)"
   ]
  },
  {
   "cell_type": "code",
   "execution_count": null,
   "id": "3dc7f420-a049-4e4b-b745-38f47e140d64",
   "metadata": {},
   "outputs": [],
   "source": [
    "# plt.figure(figsize=(16, 8))\n",
    "# sns.barplot(x=\"sales\", y=\"amount_sales_cat\", data=dff, order=categories)\n",
    "# plt.close(2)"
   ]
  },
  {
   "cell_type": "code",
   "execution_count": 72,
   "id": "afba2297-80d0-4df1-a851-0c2b81aac3a6",
   "metadata": {},
   "outputs": [
    {
     "data": {
      "text/html": [
       "<div>\n",
       "<style scoped>\n",
       "    .dataframe tbody tr th:only-of-type {\n",
       "        vertical-align: middle;\n",
       "    }\n",
       "\n",
       "    .dataframe tbody tr th {\n",
       "        vertical-align: top;\n",
       "    }\n",
       "\n",
       "    .dataframe thead th {\n",
       "        text-align: right;\n",
       "    }\n",
       "</style>\n",
       "<table border=\"1\" class=\"dataframe\">\n",
       "  <thead>\n",
       "    <tr style=\"text-align: right;\">\n",
       "      <th></th>\n",
       "      <th>a_buyer_document</th>\n",
       "      <th>sales</th>\n",
       "      <th>first_sale</th>\n",
       "      <th>last_sale</th>\n",
       "      <th>amount_sales_cat</th>\n",
       "    </tr>\n",
       "  </thead>\n",
       "  <tbody>\n",
       "    <tr>\n",
       "      <th>41</th>\n",
       "      <td>100432</td>\n",
       "      <td>1</td>\n",
       "      <td>2022-01-24</td>\n",
       "      <td>2022-01-24</td>\n",
       "      <td>0-50</td>\n",
       "    </tr>\n",
       "    <tr>\n",
       "      <th>157</th>\n",
       "      <td>101455</td>\n",
       "      <td>2</td>\n",
       "      <td>2022-02-16</td>\n",
       "      <td>2022-02-16</td>\n",
       "      <td>0-50</td>\n",
       "    </tr>\n",
       "    <tr>\n",
       "      <th>329</th>\n",
       "      <td>103031</td>\n",
       "      <td>1</td>\n",
       "      <td>2022-02-09</td>\n",
       "      <td>2022-02-09</td>\n",
       "      <td>0-50</td>\n",
       "    </tr>\n",
       "    <tr>\n",
       "      <th>408</th>\n",
       "      <td>103756</td>\n",
       "      <td>1</td>\n",
       "      <td>2022-01-17</td>\n",
       "      <td>2022-01-17</td>\n",
       "      <td>0-50</td>\n",
       "    </tr>\n",
       "    <tr>\n",
       "      <th>1038</th>\n",
       "      <td>110091</td>\n",
       "      <td>1</td>\n",
       "      <td>2022-01-20</td>\n",
       "      <td>2022-01-20</td>\n",
       "      <td>0-50</td>\n",
       "    </tr>\n",
       "    <tr>\n",
       "      <th>...</th>\n",
       "      <td>...</td>\n",
       "      <td>...</td>\n",
       "      <td>...</td>\n",
       "      <td>...</td>\n",
       "      <td>...</td>\n",
       "    </tr>\n",
       "    <tr>\n",
       "      <th>74729</th>\n",
       "      <td>946527</td>\n",
       "      <td>4</td>\n",
       "      <td>2022-02-25</td>\n",
       "      <td>2022-02-25</td>\n",
       "      <td>0-50</td>\n",
       "    </tr>\n",
       "    <tr>\n",
       "      <th>74892</th>\n",
       "      <td>948248</td>\n",
       "      <td>1</td>\n",
       "      <td>2022-01-24</td>\n",
       "      <td>2022-01-24</td>\n",
       "      <td>0-50</td>\n",
       "    </tr>\n",
       "    <tr>\n",
       "      <th>75686</th>\n",
       "      <td>956143</td>\n",
       "      <td>1</td>\n",
       "      <td>2022-01-18</td>\n",
       "      <td>2022-01-18</td>\n",
       "      <td>0-50</td>\n",
       "    </tr>\n",
       "    <tr>\n",
       "      <th>75865</th>\n",
       "      <td>957854</td>\n",
       "      <td>1</td>\n",
       "      <td>2022-01-21</td>\n",
       "      <td>2022-01-21</td>\n",
       "      <td>0-50</td>\n",
       "    </tr>\n",
       "    <tr>\n",
       "      <th>75963</th>\n",
       "      <td>958874</td>\n",
       "      <td>2</td>\n",
       "      <td>2022-01-18</td>\n",
       "      <td>2022-01-18</td>\n",
       "      <td>0-50</td>\n",
       "    </tr>\n",
       "  </tbody>\n",
       "</table>\n",
       "<p>186 rows × 5 columns</p>\n",
       "</div>"
      ],
      "text/plain": [
       "       a_buyer_document  sales  first_sale   last_sale amount_sales_cat\n",
       "41               100432      1  2022-01-24  2022-01-24             0-50\n",
       "157              101455      2  2022-02-16  2022-02-16             0-50\n",
       "329              103031      1  2022-02-09  2022-02-09             0-50\n",
       "408              103756      1  2022-01-17  2022-01-17             0-50\n",
       "1038             110091      1  2022-01-20  2022-01-20             0-50\n",
       "...                 ...    ...         ...         ...              ...\n",
       "74729            946527      4  2022-02-25  2022-02-25             0-50\n",
       "74892            948248      1  2022-01-24  2022-01-24             0-50\n",
       "75686            956143      1  2022-01-18  2022-01-18             0-50\n",
       "75865            957854      1  2022-01-21  2022-01-21             0-50\n",
       "75963            958874      2  2022-01-18  2022-01-18             0-50\n",
       "\n",
       "[186 rows x 5 columns]"
      ]
     },
     "execution_count": 72,
     "metadata": {},
     "output_type": "execute_result"
    }
   ],
   "source": [
    "dff[dff[\"first_sale\"] > str(dt.date.today() - half_year)]"
   ]
  },
  {
   "cell_type": "code",
   "execution_count": null,
   "id": "17abf00c-20c0-4364-b187-fc7107481bfc",
   "metadata": {},
   "outputs": [],
   "source": []
  }
 ],
 "metadata": {
  "kernelspec": {
   "display_name": "Python 3 (ipykernel)",
   "language": "python",
   "name": "python3"
  },
  "language_info": {
   "codemirror_mode": {
    "name": "ipython",
    "version": 3
   },
   "file_extension": ".py",
   "mimetype": "text/x-python",
   "name": "python",
   "nbconvert_exporter": "python",
   "pygments_lexer": "ipython3",
   "version": "3.9.6"
  }
 },
 "nbformat": 4,
 "nbformat_minor": 5
}
