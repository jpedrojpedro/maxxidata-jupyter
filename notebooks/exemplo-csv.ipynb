{
 "cells": [
  {
   "cell_type": "markdown",
   "id": "18238141-051a-4154-8ec1-cd21d646e9aa",
   "metadata": {},
   "source": [
    "## \\[Data Science\\] Full stack training\n",
    "\n",
    "- campo chave para junção das tabelas: `grower_document`\n",
    "- tabela base: `md_grower_report`\n",
    "  - corresponde ao cadastro de agricultores da Bayer"
   ]
  },
  {
   "cell_type": "code",
   "execution_count": 1,
   "id": "83f635ff-cb10-493f-b595-1ac0af391eec",
   "metadata": {},
   "outputs": [],
   "source": [
    "import pandas as pd\n",
    "from pathlib import Path"
   ]
  },
  {
   "cell_type": "code",
   "execution_count": 2,
   "id": "04d22db7-dfe5-4405-a16c-6e47f0be566f",
   "metadata": {},
   "outputs": [],
   "source": [
    "pd.set_option('display.max_columns', None)"
   ]
  },
  {
   "cell_type": "code",
   "execution_count": 3,
   "id": "b64df1bf-544b-4b97-9cea-7abf14ce764f",
   "metadata": {},
   "outputs": [],
   "source": [
    "INPUT_FOLDER = Path.cwd().parent / \"inputs\""
   ]
  },
  {
   "cell_type": "code",
   "execution_count": 4,
   "id": "fd45ad34-a200-4f82-ad8b-67aed503fdee",
   "metadata": {},
   "outputs": [],
   "source": [
    "csv_files = Path(INPUT_FOLDER).glob('**/*.csv')"
   ]
  },
  {
   "cell_type": "code",
   "execution_count": 5,
   "id": "d94bcfee-5647-45f5-b99e-faae2acf8457",
   "metadata": {},
   "outputs": [
    {
     "name": "stderr",
     "output_type": "stream",
     "text": [
      "/var/folders/g0/342sbsdd56173k7xyxgl_jh1w0chb5/T/ipykernel_55140/670898405.py:1: DtypeWarning: Columns (38,40) have mixed types. Specify dtype option on import or set low_memory=False.\n",
      "  df = {f\"{csv_file.name[10:-4]}\": pd.read_csv(csv_file) for csv_file in csv_files}\n",
      "/var/folders/g0/342sbsdd56173k7xyxgl_jh1w0chb5/T/ipykernel_55140/670898405.py:1: DtypeWarning: Columns (1,2,39) have mixed types. Specify dtype option on import or set low_memory=False.\n",
      "  df = {f\"{csv_file.name[10:-4]}\": pd.read_csv(csv_file) for csv_file in csv_files}\n",
      "/var/folders/g0/342sbsdd56173k7xyxgl_jh1w0chb5/T/ipykernel_55140/670898405.py:1: DtypeWarning: Columns (37,47) have mixed types. Specify dtype option on import or set low_memory=False.\n",
      "  df = {f\"{csv_file.name[10:-4]}\": pd.read_csv(csv_file) for csv_file in csv_files}\n"
     ]
    }
   ],
   "source": [
    "df = {f\"{csv_file.name[10:-4]}\": pd.read_csv(csv_file) for csv_file in csv_files}"
   ]
  },
  {
   "cell_type": "code",
   "execution_count": 6,
   "id": "54d33959-9f31-45c9-a0c4-d9d557f16cf6",
   "metadata": {},
   "outputs": [
    {
     "data": {
      "text/plain": [
       "dict_keys(['sales', 'disque_intacta', 'md_grower_report', 'saved_seeds', 'entered_area'])"
      ]
     },
     "execution_count": 6,
     "metadata": {},
     "output_type": "execute_result"
    }
   ],
   "source": [
    "df.keys()"
   ]
  },
  {
   "cell_type": "markdown",
   "id": "ef95af41-0e0d-4f5e-833f-9730a9c8714d",
   "metadata": {},
   "source": [
    "## Tables:\n",
    "\n",
    "- **sales** => (871.264, 79) - (a_seller_document, a_buyer_document)\n",
    "- **disque_intacta** => (385.716, 51)\n",
    "- **md_grower_report** => (514.182, 38) - (a_grower_document)\n",
    "- **saved_seeds** => (19.648, 72)\n",
    "- **entered_area** => (51.262, 40)"
   ]
  },
  {
   "cell_type": "markdown",
   "id": "cc8112b0-c40f-440d-abf3-c1cde2e5d322",
   "metadata": {},
   "source": [
    "## Dealing with duplicated data\n",
    "\n",
    "An initial `left outer join` between `sales` and `md_grower_report` was resulting an amount greater than the number of rows of `sales`\n",
    "\n",
    "This raised a red flag because probably there were duplicated keys in `md_grower_report`\n",
    "\n",
    "Then, I started investigating"
   ]
  },
  {
   "cell_type": "code",
   "execution_count": 7,
   "id": "8963b6a9-fbc0-4a7c-8ec7-0d0fbf7859b3",
   "metadata": {},
   "outputs": [
    {
     "data": {
      "text/plain": [
       "(896150, 117)"
      ]
     },
     "execution_count": 7,
     "metadata": {},
     "output_type": "execute_result"
    }
   ],
   "source": [
    "df_dup_detected = pd.merge(\n",
    "    df[\"sales\"],\n",
    "    df[\"md_grower_report\"],\n",
    "    how=\"left\",\n",
    "    # on=None,\n",
    "    left_on=[\"a_seller_document\"],\n",
    "    right_on=[\"a_grower_document\"],\n",
    "    # left_index=False,\n",
    "    # right_index=False,\n",
    "    # sort=True,\n",
    "    suffixes=(\"_seller\", \"_grower\"),\n",
    ")\n",
    "df_dup_detected.shape"
   ]
  },
  {
   "cell_type": "markdown",
   "id": "115ec915-052b-4b7d-833a-8a43dd45498a",
   "metadata": {},
   "source": [
    "`896.150` **>** `871.264` :: `24.886` extra amount (**!!!**)"
   ]
  },
  {
   "cell_type": "code",
   "execution_count": 8,
   "id": "eca7c46e-4663-4d49-9be2-58335c6a038d",
   "metadata": {},
   "outputs": [
    {
     "name": "stdout",
     "output_type": "stream",
     "text": [
      "Comparing grower_docs.size with grower_docs_unq.size => 514182 vs 461935\n"
     ]
    },
    {
     "ename": "AssertionError",
     "evalue": "",
     "output_type": "error",
     "traceback": [
      "\u001b[0;31m---------------------------------------------------------------------------\u001b[0m",
      "\u001b[0;31mAssertionError\u001b[0m                            Traceback (most recent call last)",
      "Input \u001b[0;32mIn [8]\u001b[0m, in \u001b[0;36m<cell line: 4>\u001b[0;34m()\u001b[0m\n\u001b[1;32m      2\u001b[0m grower_docs_unq \u001b[38;5;241m=\u001b[39m df[\u001b[38;5;124m\"\u001b[39m\u001b[38;5;124mmd_grower_report\u001b[39m\u001b[38;5;124m\"\u001b[39m][\u001b[38;5;124m\"\u001b[39m\u001b[38;5;124ma_grower_document\u001b[39m\u001b[38;5;124m\"\u001b[39m]\u001b[38;5;241m.\u001b[39munique()\n\u001b[1;32m      3\u001b[0m \u001b[38;5;28mprint\u001b[39m(\u001b[38;5;124mf\u001b[39m\u001b[38;5;124m\"\u001b[39m\u001b[38;5;124mComparing grower_docs.size with grower_docs_unq.size => \u001b[39m\u001b[38;5;132;01m{\u001b[39;00m\u001b[38;5;28mlen\u001b[39m(grower_docs)\u001b[38;5;132;01m}\u001b[39;00m\u001b[38;5;124m vs \u001b[39m\u001b[38;5;132;01m{\u001b[39;00m\u001b[38;5;28mlen\u001b[39m(grower_docs_unq)\u001b[38;5;132;01m}\u001b[39;00m\u001b[38;5;124m\"\u001b[39m)\n\u001b[0;32m----> 4\u001b[0m \u001b[38;5;28;01massert\u001b[39;00m \u001b[38;5;28mlen\u001b[39m(df[\u001b[38;5;124m\"\u001b[39m\u001b[38;5;124mmd_grower_report\u001b[39m\u001b[38;5;124m\"\u001b[39m][\u001b[38;5;124m\"\u001b[39m\u001b[38;5;124ma_grower_document\u001b[39m\u001b[38;5;124m\"\u001b[39m]) \u001b[38;5;241m==\u001b[39m \u001b[38;5;28mlen\u001b[39m(df[\u001b[38;5;124m\"\u001b[39m\u001b[38;5;124mmd_grower_report\u001b[39m\u001b[38;5;124m\"\u001b[39m][\u001b[38;5;124m\"\u001b[39m\u001b[38;5;124ma_grower_document\u001b[39m\u001b[38;5;124m\"\u001b[39m]\u001b[38;5;241m.\u001b[39munique())\n",
      "\u001b[0;31mAssertionError\u001b[0m: "
     ]
    }
   ],
   "source": [
    "grower_docs = df[\"md_grower_report\"][\"a_grower_document\"]\n",
    "grower_docs_unq = df[\"md_grower_report\"][\"a_grower_document\"].unique()\n",
    "print(f\"Comparing grower_docs.size with grower_docs_unq.size => {len(grower_docs)} vs {len(grower_docs_unq)}\")\n",
    "assert len(df[\"md_grower_report\"][\"a_grower_document\"]) == len(df[\"md_grower_report\"][\"a_grower_document\"].unique())"
   ]
  },
  {
   "cell_type": "code",
   "execution_count": 9,
   "id": "9733d23e-4c58-408b-a787-d20a0646b27b",
   "metadata": {},
   "outputs": [
    {
     "data": {
      "text/plain": [
       "(475945, 38)"
      ]
     },
     "execution_count": 9,
     "metadata": {},
     "output_type": "execute_result"
    }
   ],
   "source": [
    "df[\"md_grower_report\"].dropna(subset=[\"a_grower_document\"]).shape"
   ]
  },
  {
   "cell_type": "code",
   "execution_count": 10,
   "id": "ab6ba9fd-279d-4dea-8347-034648963295",
   "metadata": {},
   "outputs": [],
   "source": [
    "# droping empty keys\n",
    "df[\"md_grower_report\"] = df[\"md_grower_report\"].dropna(subset=[\"a_grower_document\"])"
   ]
  },
  {
   "cell_type": "code",
   "execution_count": 11,
   "id": "7f9c56f3-c7aa-4306-8423-7d0f5ae7b2db",
   "metadata": {},
   "outputs": [
    {
     "data": {
      "text/plain": [
       "(28011, 38)"
      ]
     },
     "execution_count": 11,
     "metadata": {},
     "output_type": "execute_result"
    }
   ],
   "source": [
    "ids = df[\"md_grower_report\"][\"a_grower_document\"]\n",
    "df_grower_report_dup = df[\"md_grower_report\"][ids.isin(ids[ids.duplicated()])].sort_values(\"a_grower_document\")\n",
    "df_grower_report_dup.shape"
   ]
  },
  {
   "cell_type": "code",
   "execution_count": 12,
   "id": "fd50d902-2de6-4b99-80d8-011aca82f9bc",
   "metadata": {},
   "outputs": [
    {
     "data": {
      "text/plain": [
       "(461934, 38)"
      ]
     },
     "execution_count": 12,
     "metadata": {},
     "output_type": "execute_result"
    }
   ],
   "source": [
    "# droping duplicated keys\n",
    "df[\"md_grower_report\"] = df[\"md_grower_report\"].drop_duplicates(subset=[\"a_grower_document\"], keep='first')\n",
    "df[\"md_grower_report\"].shape"
   ]
  },
  {
   "cell_type": "code",
   "execution_count": 14,
   "id": "87626959-d3be-4fc1-a60e-86838be20256",
   "metadata": {},
   "outputs": [
    {
     "data": {
      "text/plain": [
       "(871264, 117)"
      ]
     },
     "execution_count": 14,
     "metadata": {},
     "output_type": "execute_result"
    }
   ],
   "source": [
    "df_cleaned = pd.merge(\n",
    "    df[\"sales\"],\n",
    "    df[\"md_grower_report\"],\n",
    "    how=\"left\",\n",
    "    # on=None,\n",
    "    left_on=[\"a_seller_document\"],\n",
    "    right_on=[\"a_grower_document\"],\n",
    "    # left_index=False,\n",
    "    # right_index=False,\n",
    "    # sort=True,\n",
    "    suffixes=(\"_seller\", \"_grower\"),\n",
    ")\n",
    "df_cleaned.shape"
   ]
  },
  {
   "cell_type": "markdown",
   "id": "13813b19-d532-47e8-99c1-1196f3db4dbb",
   "metadata": {},
   "source": [
    "`871.264` **=** `871.264` :: **ZERO** extra amount (*first mission accomplished*)"
   ]
  },
  {
   "cell_type": "code",
   "execution_count": 15,
   "id": "6d1cff84-b0ee-4843-b2e7-acb380fa38a0",
   "metadata": {},
   "outputs": [
    {
     "data": {
      "text/plain": [
       "(871264, 155)"
      ]
     },
     "execution_count": 15,
     "metadata": {},
     "output_type": "execute_result"
    }
   ],
   "source": [
    "df_final = pd.merge(\n",
    "    df_cleaned,\n",
    "    df[\"md_grower_report\"],\n",
    "    how=\"left\",\n",
    "    # on=None,\n",
    "    left_on=[\"a_buyer_document\"],\n",
    "    right_on=[\"a_grower_document\"],\n",
    "    # left_index=False,\n",
    "    # right_index=False,\n",
    "    # sort=True,\n",
    "    suffixes=(\"_buyer\", \"_grower_2\"),\n",
    ")\n",
    "df_final.shape"
   ]
  },
  {
   "cell_type": "markdown",
   "id": "20c6381f-b4db-4a77-ad2d-ee0201bb2aa6",
   "metadata": {},
   "source": [
    "`871.264` **=** `871.264` :: **ZERO** extra amount (*double check done*)\n",
    "\n",
    "notice that the number of column are equal to `79` **+** `38` **+** `38` (**=** `155`)\n",
    "\n",
    "number of columns in `sales` = 79 / number of columns in `md_grower_report` = 38"
   ]
  }
 ],
 "metadata": {
  "kernelspec": {
   "display_name": "Python 3 (ipykernel)",
   "language": "python",
   "name": "python3"
  },
  "language_info": {
   "codemirror_mode": {
    "name": "ipython",
    "version": 3
   },
   "file_extension": ".py",
   "mimetype": "text/x-python",
   "name": "python",
   "nbconvert_exporter": "python",
   "pygments_lexer": "ipython3",
   "version": "3.9.6"
  }
 },
 "nbformat": 4,
 "nbformat_minor": 5
}
